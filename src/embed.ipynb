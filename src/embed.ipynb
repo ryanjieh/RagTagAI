{
 "cells": [
  {
   "cell_type": "code",
   "execution_count": 3,
   "id": "3baf0275",
   "metadata": {},
   "outputs": [],
   "source": [
    "from transformers import CLIPProcessor, CLIPModel\n",
    "from PIL import Image\n",
    "import torch\n",
    "import numpy as np\n",
    "\n",
    "# Load model\n",
    "model_id = \"patrickjohncyh/fashion-clip\"\n",
    "model = CLIPModel.from_pretrained(model_id)\n",
    "processor = CLIPProcessor.from_pretrained(model_id)\n",
    "\n",
    "device = torch.device(\"mps\" if torch.backends.mps.is_available() else \"cpu\") # mac lol\n",
    "model = model.to(device)"
   ]
  },
  {
   "cell_type": "code",
   "execution_count": 4,
   "id": "152590e9",
   "metadata": {},
   "outputs": [],
   "source": [
    "# Load image and text\n",
    "image = Image.open(\"../data/picture.jpeg\")\n",
    "with open(\"../data/post.txt\", \"r\") as f:\n",
    "  text = f.read()\n",
    "\n",
    "# text cannot be more than 77 tokens long per embedding for CLIP"
   ]
  },
  {
   "cell_type": "code",
   "execution_count": 5,
   "id": "657ba808",
   "metadata": {},
   "outputs": [
    {
     "data": {
      "text/plain": [
       "43"
      ]
     },
     "execution_count": 5,
     "metadata": {},
     "output_type": "execute_result"
    }
   ],
   "source": [
    "tokens = processor.tokenizer(text, return_tensors=\"pt\")\n",
    "tokens['input_ids'].shape[1]  # should be ≤ 77\n"
   ]
  },
  {
   "cell_type": "code",
   "execution_count": 6,
   "id": "acfa7203",
   "metadata": {},
   "outputs": [],
   "source": [
    "# Prepare inputs (image + optional text)\n",
    "inputs = processor(\n",
    "    text=[text],\n",
    "    images=image,\n",
    "    return_tensors=\"pt\",\n",
    "    padding=True\n",
    ")\n",
    "inputs = {k: v.to(device) for k, v in inputs.items()} \n",
    "\n",
    "# Forward pass\n",
    "with torch.no_grad():\n",
    "    outputs = model(**inputs)\n",
    "\n",
    "image_embeds = outputs.image_embeds\n",
    "text_embeds = outputs.text_embeds\n",
    "\n",
    "image_embeds = torch.nn.functional.normalize(image_embeds)\n",
    "text_embeds = torch.nn.functional.normalize(text_embeds)"
   ]
  },
  {
   "cell_type": "code",
   "execution_count": 7,
   "id": "c27b2c4a",
   "metadata": {},
   "outputs": [
    {
     "data": {
      "text/plain": [
       "(torch.Size([1, 512]), torch.Size([1, 512]))"
      ]
     },
     "execution_count": 7,
     "metadata": {},
     "output_type": "execute_result"
    }
   ],
   "source": [
    "image_embeds.shape, text_embeds.shape"
   ]
  },
  {
   "cell_type": "code",
   "execution_count": 14,
   "id": "ff1ce51a",
   "metadata": {},
   "outputs": [],
   "source": [
    "# Prepare inputs (image + optional text)\n",
    "compare_text = \"blue shirt and brown long pants\"\n",
    "compare_inputs = processor(\n",
    "    text=[compare_text],\n",
    "    return_tensors=\"pt\",\n",
    "    padding=True\n",
    ")\n",
    "compare_inputs = {k: v.to(device) for k, v in compare_inputs.items()} \n",
    "\n",
    "# Forward pass\n",
    "with torch.no_grad():\n",
    "    compare_text_embeds = model.get_text_features(**compare_inputs)\n",
    "\n",
    "compare_text_embeds = torch.nn.functional.normalize(compare_text_embeds)"
   ]
  },
  {
   "cell_type": "code",
   "execution_count": 17,
   "id": "51ebbdf3",
   "metadata": {},
   "outputs": [
    {
     "name": "stdout",
     "output_type": "stream",
     "text": [
      "Image to post.txt similarity: 0.2717254161834717\n",
      "Image to manual description similarity: 0.3059011697769165\n",
      "Manual description to post.txt similarity: 0.4487333595752716\n"
     ]
    }
   ],
   "source": [
    "similarity = torch.nn.functional.cosine_similarity(image_embeds, text_embeds)\n",
    "print(f\"Image to post.txt similarity: {similarity[0]}\")\n",
    "\n",
    "\n",
    "similarity = torch.nn.functional.cosine_similarity(image_embeds, compare_text_embeds)\n",
    "print(f\"Image to manual description similarity: {similarity[0]}\")\n",
    "\n",
    "similarity = torch.nn.functional.cosine_similarity(text_embeds, compare_text_embeds)\n",
    "print(f\"Manual description to post.txt similarity: {similarity[0]}\")"
   ]
  }
 ],
 "metadata": {
  "kernelspec": {
   "display_name": "Python 3",
   "language": "python",
   "name": "python3"
  },
  "language_info": {
   "codemirror_mode": {
    "name": "ipython",
    "version": 3
   },
   "file_extension": ".py",
   "mimetype": "text/x-python",
   "name": "python",
   "nbconvert_exporter": "python",
   "pygments_lexer": "ipython3",
   "version": "3.10.9"
  }
 },
 "nbformat": 4,
 "nbformat_minor": 5
}
