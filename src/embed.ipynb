{
  "cells": [
    {
      "cell_type": "code",
      "execution_count": 1,
      "id": "3baf0275",
      "metadata": {},
      "outputs": [],
      "source": [
        "from transformers import CLIPProcessor, CLIPModel\n",
        "from PIL import Image\n",
        "import torch\n",
        "import numpy as np\n",
        "\n",
        "# Load model\n",
        "model_id = \"patrickjohncyh/fashion-clip\"\n",
        "model = CLIPModel.from_pretrained(model_id)\n",
        "processor = CLIPProcessor.from_pretrained(model_id)\n",
        "\n",
        "device = torch.device(\"mps\" if torch.backends.mps.is_available() else \"cpu\") # mac lol\n",
        "model = model.to(device)"
      ]
    },
    {
      "cell_type": "code",
      "execution_count": 74,
      "id": "4f4f8bd7",
      "metadata": {},
      "outputs": [
        {
          "name": "stdout",
          "output_type": "stream",
          "text": [
            "fashioncontroversial.csv\n",
            "malefashioncontroversial.csv\n",
            "fashionhot.csv\n",
            "malefashionhot.csv\n",
            "fashiontopyear.csv\n",
            "mensfashiontopyear.csv\n",
            "mensfashioncontroversialcontroversial.csv\n",
            "streetweartopyear.csv\n",
            "streetwearcontroversial.csv\n",
            "streetwear.csv\n",
            "OUTFITScontroversial.csv\n",
            "malefashiontopyear.csv\n",
            "OUTFITShot.csv\n",
            "OUTFITStopyear.csv\n",
            "mensfashionhot.csv\n",
            "streetwearhot.csv\n",
            "12559\n"
          ]
        }
      ],
      "source": [
        "import csv\n",
        "import ast\n",
        "import os\n",
        "import sys\n",
        "\n",
        "data = []\n",
        "DATA_DIR = \"../data/\"\n",
        "\n",
        "csv.field_size_limit(sys.maxsize)\n",
        "\n",
        "for file in os.listdir(DATA_DIR):\n",
        "  print(file)\n",
        "  if file == \"streetwear.csv\":\n",
        "    continue\n",
        "  with open(DATA_DIR + file, newline='', encoding='utf-8') as csvfile:\n",
        "    reader = csv.DictReader(csvfile, delimiter=\"\\t\")\n",
        "    data.extend([row for row in reader])\n",
        "\n",
        "# with open(\"../data/fashionhot.csv\", \"r\", newline=\"\", encoding=\"utf-8\") as f:\n",
        "#   reader = csv.DictReader(f, delimiter=\"\\t\")\n",
        "#   data = [row for row in reader]\n",
        "\n",
        "for i, row in enumerate(data):\n",
        "  if row[\"Comments\"] == \"No comments\" or row[\"Images\"] == \"No images\":\n",
        "    del data[i]\n",
        "    continue\n",
        "  data[i][\"Comments\"] = ast.literal_eval(data[i][\"Comments\"]) # maybe we find another way of storing the comments\n",
        "print(len(data))"
      ]
    },
    {
      "cell_type": "code",
      "execution_count": null,
      "id": "b8e55ab4",
      "metadata": {},
      "outputs": [],
      "source": []
    },
    {
      "cell_type": "code",
      "execution_count": 40,
      "id": "ccfcc821",
      "metadata": {},
      "outputs": [
        {
          "data": {
            "text/plain": [
              "12464"
            ]
          },
          "execution_count": 40,
          "metadata": {},
          "output_type": "execute_result"
        }
      ],
      "source": [
        "len(data)"
      ]
    },
    {
      "cell_type": "code",
      "execution_count": null,
      "id": "08fde365-d7e9-4a08-ae14-2af612f7f9e0",
      "metadata": {},
      "outputs": [
        {
          "data": {
            "text/plain": [
              "[{'label': 'Neutral', 'score': 0.3992540240287781},\n",
              " {'label': 'Neutral', 'score': 0.5025282502174377},\n",
              " {'label': 'Neutral', 'score': 0.3811638057231903}]"
            ]
          },
          "execution_count": 5,
          "metadata": {},
          "output_type": "execute_result"
        }
      ],
      "source": [
        "#getting comments sentiment analysis score\n",
        "\n",
        "#1. Importing model\n",
        "#used a huggingface sentiment analysis multilingual transformer. \n",
        "#Selected this one because of fine-grained classification of sentiments\n",
        "#is multilingual distilbert fine-tuned into a sentiment analysis model\n",
        "from transformers import pipeline\n",
        "# Load the classification pipeline with the specified model\n",
        "pipe = pipeline(model=\"tabularisai/multilingual-sentiment-analysis\")\n",
        "#into 512 tokens max\n",
        "#Number of Classes: 5 (Very Negative, Negative, Neutral, Positive, Very Positive)\n",
        "#Score: model's confidence in its result\n"
      ]
    },
    {
      "cell_type": "code",
      "execution_count": 4,
      "id": "9ca122ea",
      "metadata": {},
      "outputs": [
        {
          "data": {
            "text/plain": [
              "[{'text': 'test', 'label': 'Neutral', 'score': 0.39925417304039},\n",
              " {'text': 'test2', 'label': 'Neutral', 'score': 0.5025281310081482},\n",
              " {'text': 'test3', 'label': 'Neutral', 'score': 0.3811637759208679}]"
            ]
          },
          "execution_count": 4,
          "metadata": {},
          "output_type": "execute_result"
        }
      ],
      "source": [
        "import requests\n",
        "\n",
        "def call_api(comments_list):\n",
        "  r = requests.post(\n",
        "    \"http://192.168.158.88:8088/predict-sentiment/\",\n",
        "    json={\n",
        "      \"texts\": comments_list\n",
        "    }\n",
        "  )\n",
        "  return r.json()\n",
        "\n",
        "call_api([\"test\", \"test2\", \"test3\"])"
      ]
    },
    {
      "cell_type": "code",
      "execution_count": 75,
      "id": "dbe51141-3fd7-4961-acb2-0993843b4a37",
      "metadata": {},
      "outputs": [
        {
          "name": "stderr",
          "output_type": "stream",
          "text": [
            "  0%|          | 11/5772 [00:01<07:53, 12.16it/s]"
          ]
        },
        {
          "name": "stdout",
          "output_type": "stream",
          "text": [
            "string indices must be integers\n"
          ]
        },
        {
          "name": "stderr",
          "output_type": "stream",
          "text": [
            "  5%|▍         | 276/5772 [00:27<08:34, 10.69it/s]"
          ]
        },
        {
          "name": "stdout",
          "output_type": "stream",
          "text": [
            "string indices must be integers\n"
          ]
        },
        {
          "name": "stderr",
          "output_type": "stream",
          "text": [
            "  6%|▌         | 319/5772 [00:31<07:37, 11.93it/s]"
          ]
        },
        {
          "name": "stdout",
          "output_type": "stream",
          "text": [
            "string indices must be integers\n"
          ]
        },
        {
          "name": "stderr",
          "output_type": "stream",
          "text": [
            "  6%|▋         | 366/5772 [00:35<07:28, 12.06it/s]"
          ]
        },
        {
          "name": "stdout",
          "output_type": "stream",
          "text": [
            "string indices must be integers\n",
            "string indices must be integers\n",
            "string indices must be integers\n",
            "string indices must be integers\n",
            "string indices must be integers\n",
            "string indices must be integers\n"
          ]
        },
        {
          "name": "stderr",
          "output_type": "stream",
          "text": [
            "  6%|▋         | 373/5772 [00:35<05:06, 17.64it/s]"
          ]
        },
        {
          "name": "stdout",
          "output_type": "stream",
          "text": [
            "string indices must be integers\n",
            "string indices must be integers\n",
            "string indices must be integers\n",
            "string indices must be integers\n",
            "string indices must be integers\n",
            "string indices must be integers\n",
            "string indices must be integers\n",
            "string indices must be integers\n",
            "string indices must be integers\n",
            "string indices must be integers\n",
            "string indices must be integers\n",
            "string indices must be integers\n",
            "string indices must be integers\n",
            "string indices must be integers\n",
            "string indices must be integers\n",
            "string indices must be integers\n",
            "string indices must be integers\n",
            "string indices must be integers\n",
            "string indices must be integers\n",
            "string indices must be integers\n",
            "string indices must be integers\n",
            "string indices must be integers\n",
            "string indices must be integers\n",
            "string indices must be integers\n"
          ]
        },
        {
          "name": "stderr",
          "output_type": "stream",
          "text": [
            "  8%|▊         | 434/5772 [00:52<15:27,  5.75it/s]"
          ]
        },
        {
          "name": "stdout",
          "output_type": "stream",
          "text": [
            "string indices must be integers\n"
          ]
        },
        {
          "name": "stderr",
          "output_type": "stream",
          "text": [
            "  8%|▊         | 437/5772 [00:52<17:29,  5.08it/s]"
          ]
        },
        {
          "name": "stdout",
          "output_type": "stream",
          "text": [
            "string indices must be integers\n"
          ]
        },
        {
          "name": "stderr",
          "output_type": "stream",
          "text": [
            "  8%|▊         | 440/5772 [00:53<14:02,  6.33it/s]"
          ]
        },
        {
          "name": "stdout",
          "output_type": "stream",
          "text": [
            "string indices must be integers\n"
          ]
        },
        {
          "name": "stderr",
          "output_type": "stream",
          "text": [
            "  8%|▊         | 457/5772 [00:56<10:12,  8.67it/s]"
          ]
        },
        {
          "name": "stdout",
          "output_type": "stream",
          "text": [
            "string indices must be integers\n",
            "string indices must be integers\n",
            "string indices must be integers\n"
          ]
        },
        {
          "name": "stderr",
          "output_type": "stream",
          "text": [
            "  8%|▊         | 469/5772 [00:57<11:22,  7.77it/s]"
          ]
        },
        {
          "name": "stdout",
          "output_type": "stream",
          "text": [
            "string indices must be integers\n"
          ]
        },
        {
          "name": "stderr",
          "output_type": "stream",
          "text": [
            "  8%|▊         | 474/5772 [00:58<08:21, 10.57it/s]"
          ]
        },
        {
          "name": "stdout",
          "output_type": "stream",
          "text": [
            "string indices must be integers\n"
          ]
        },
        {
          "name": "stderr",
          "output_type": "stream",
          "text": [
            "  8%|▊         | 488/5772 [01:00<10:30,  8.38it/s]"
          ]
        },
        {
          "name": "stdout",
          "output_type": "stream",
          "text": [
            "string indices must be integers\n"
          ]
        },
        {
          "name": "stderr",
          "output_type": "stream",
          "text": [
            "  9%|▊         | 493/5772 [01:01<11:20,  7.76it/s]"
          ]
        },
        {
          "name": "stdout",
          "output_type": "stream",
          "text": [
            "string indices must be integers\n"
          ]
        },
        {
          "name": "stderr",
          "output_type": "stream",
          "text": [
            "  9%|▉         | 515/5772 [01:04<09:32,  9.19it/s]"
          ]
        },
        {
          "name": "stdout",
          "output_type": "stream",
          "text": [
            "string indices must be integers\n"
          ]
        },
        {
          "name": "stderr",
          "output_type": "stream",
          "text": [
            "  9%|▉         | 531/5772 [01:06<10:17,  8.49it/s]"
          ]
        },
        {
          "name": "stdout",
          "output_type": "stream",
          "text": [
            "string indices must be integers\n"
          ]
        },
        {
          "name": "stderr",
          "output_type": "stream",
          "text": [
            "  9%|▉         | 541/5772 [01:07<09:07,  9.56it/s]"
          ]
        },
        {
          "name": "stdout",
          "output_type": "stream",
          "text": [
            "string indices must be integers\n",
            "string indices must be integers\n"
          ]
        },
        {
          "name": "stderr",
          "output_type": "stream",
          "text": [
            "  9%|▉         | 548/5772 [01:07<06:45, 12.88it/s]"
          ]
        },
        {
          "name": "stdout",
          "output_type": "stream",
          "text": [
            "string indices must be integers\n",
            "string indices must be integers\n",
            "string indices must be integers\n"
          ]
        },
        {
          "name": "stderr",
          "output_type": "stream",
          "text": [
            " 10%|▉         | 556/5772 [01:08<10:10,  8.54it/s]"
          ]
        },
        {
          "name": "stdout",
          "output_type": "stream",
          "text": [
            "string indices must be integers\n"
          ]
        },
        {
          "name": "stderr",
          "output_type": "stream",
          "text": [
            " 10%|▉         | 567/5772 [01:09<07:53, 10.98it/s]"
          ]
        },
        {
          "name": "stdout",
          "output_type": "stream",
          "text": [
            "string indices must be integers\n"
          ]
        },
        {
          "name": "stderr",
          "output_type": "stream",
          "text": [
            " 10%|▉         | 575/5772 [01:10<07:08, 12.13it/s]"
          ]
        },
        {
          "name": "stdout",
          "output_type": "stream",
          "text": [
            "string indices must be integers\n"
          ]
        },
        {
          "name": "stderr",
          "output_type": "stream",
          "text": [
            " 10%|█         | 583/5772 [01:11<08:05, 10.68it/s]"
          ]
        },
        {
          "name": "stdout",
          "output_type": "stream",
          "text": [
            "string indices must be integers\n"
          ]
        },
        {
          "name": "stderr",
          "output_type": "stream",
          "text": [
            " 10%|█         | 587/5772 [01:11<08:22, 10.32it/s]"
          ]
        },
        {
          "name": "stdout",
          "output_type": "stream",
          "text": [
            "string indices must be integers\n",
            "string indices must be integers\n",
            "string indices must be integers\n"
          ]
        },
        {
          "name": "stderr",
          "output_type": "stream",
          "text": [
            " 10%|█         | 591/5772 [01:12<06:32, 13.19it/s]"
          ]
        },
        {
          "name": "stdout",
          "output_type": "stream",
          "text": [
            "string indices must be integers\n"
          ]
        },
        {
          "name": "stderr",
          "output_type": "stream",
          "text": [
            " 10%|█         | 600/5772 [01:12<05:26, 15.83it/s]"
          ]
        },
        {
          "name": "stdout",
          "output_type": "stream",
          "text": [
            "string indices must be integers\n",
            "string indices must be integers\n",
            "string indices must be integers\n",
            "string indices must be integers\n"
          ]
        },
        {
          "name": "stderr",
          "output_type": "stream",
          "text": [
            " 11%|█         | 609/5772 [01:13<06:31, 13.18it/s]"
          ]
        },
        {
          "name": "stdout",
          "output_type": "stream",
          "text": [
            "string indices must be integers\n"
          ]
        },
        {
          "name": "stderr",
          "output_type": "stream",
          "text": [
            " 11%|█         | 617/5772 [01:14<07:52, 10.90it/s]"
          ]
        },
        {
          "name": "stdout",
          "output_type": "stream",
          "text": [
            "string indices must be integers\n"
          ]
        },
        {
          "name": "stderr",
          "output_type": "stream",
          "text": [
            " 11%|█         | 627/5772 [01:14<05:34, 15.39it/s]"
          ]
        },
        {
          "name": "stdout",
          "output_type": "stream",
          "text": [
            "string indices must be integers\n",
            "string indices must be integers\n"
          ]
        },
        {
          "name": "stderr",
          "output_type": "stream",
          "text": [
            " 11%|█         | 633/5772 [01:15<06:00, 14.26it/s]"
          ]
        },
        {
          "name": "stdout",
          "output_type": "stream",
          "text": [
            "string indices must be integers\n",
            "string indices must be integers\n"
          ]
        },
        {
          "name": "stderr",
          "output_type": "stream",
          "text": [
            " 11%|█         | 638/5772 [01:15<04:16, 20.03it/s]"
          ]
        },
        {
          "name": "stdout",
          "output_type": "stream",
          "text": [
            "string indices must be integers\n",
            "string indices must be integers\n"
          ]
        },
        {
          "name": "stderr",
          "output_type": "stream",
          "text": [
            " 11%|█         | 643/5772 [01:15<04:42, 18.18it/s]"
          ]
        },
        {
          "name": "stdout",
          "output_type": "stream",
          "text": [
            "string indices must be integers\n",
            "string indices must be integers\n",
            "string indices must be integers\n"
          ]
        },
        {
          "name": "stderr",
          "output_type": "stream",
          "text": [
            " 11%|█▏        | 652/5772 [01:16<05:42, 14.96it/s]"
          ]
        },
        {
          "name": "stdout",
          "output_type": "stream",
          "text": [
            "string indices must be integers\n"
          ]
        },
        {
          "name": "stderr",
          "output_type": "stream",
          "text": [
            " 11%|█▏        | 656/5772 [01:16<06:24, 13.29it/s]"
          ]
        },
        {
          "name": "stdout",
          "output_type": "stream",
          "text": [
            "string indices must be integers\n",
            "string indices must be integers\n",
            "string indices must be integers\n"
          ]
        },
        {
          "name": "stderr",
          "output_type": "stream",
          "text": [
            " 11%|█▏        | 662/5772 [01:17<05:27, 15.60it/s]"
          ]
        },
        {
          "name": "stdout",
          "output_type": "stream",
          "text": [
            "string indices must be integers\n",
            "string indices must be integers\n"
          ]
        },
        {
          "name": "stderr",
          "output_type": "stream",
          "text": [
            " 12%|█▏        | 670/5772 [01:17<05:04, 16.74it/s]"
          ]
        },
        {
          "name": "stdout",
          "output_type": "stream",
          "text": [
            "string indices must be integers\n",
            "string indices must be integers\n"
          ]
        },
        {
          "name": "stderr",
          "output_type": "stream",
          "text": [
            " 12%|█▏        | 673/5772 [01:17<04:49, 17.59it/s]"
          ]
        },
        {
          "name": "stdout",
          "output_type": "stream",
          "text": [
            "string indices must be integers\n",
            "string indices must be integers\n"
          ]
        },
        {
          "name": "stderr",
          "output_type": "stream",
          "text": [
            " 12%|█▏        | 687/5772 [01:19<07:08, 11.86it/s]"
          ]
        },
        {
          "name": "stdout",
          "output_type": "stream",
          "text": [
            "string indices must be integers\n",
            "string indices must be integers\n",
            "string indices must be integers\n"
          ]
        },
        {
          "name": "stderr",
          "output_type": "stream",
          "text": [
            " 12%|█▏        | 695/5772 [01:19<04:44, 17.85it/s]"
          ]
        },
        {
          "name": "stdout",
          "output_type": "stream",
          "text": [
            "string indices must be integers\n",
            "string indices must be integers\n",
            "string indices must be integers\n"
          ]
        },
        {
          "name": "stderr",
          "output_type": "stream",
          "text": [
            " 12%|█▏        | 701/5772 [01:19<04:16, 19.75it/s]"
          ]
        },
        {
          "name": "stdout",
          "output_type": "stream",
          "text": [
            "string indices must be integers\n",
            "string indices must be integers\n",
            "string indices must be integers\n"
          ]
        },
        {
          "name": "stderr",
          "output_type": "stream",
          "text": [
            " 12%|█▏        | 704/5772 [01:19<03:52, 21.78it/s]"
          ]
        },
        {
          "name": "stdout",
          "output_type": "stream",
          "text": [
            "string indices must be integers\n",
            "string indices must be integers\n"
          ]
        },
        {
          "name": "stderr",
          "output_type": "stream",
          "text": [
            " 12%|█▏        | 710/5772 [01:20<04:59, 16.92it/s]"
          ]
        },
        {
          "name": "stdout",
          "output_type": "stream",
          "text": [
            "string indices must be integers\n",
            "string indices must be integers\n"
          ]
        },
        {
          "name": "stderr",
          "output_type": "stream",
          "text": [
            " 12%|█▏        | 719/5772 [01:20<04:30, 18.71it/s]"
          ]
        },
        {
          "name": "stdout",
          "output_type": "stream",
          "text": [
            "string indices must be integers\n",
            "string indices must be integers\n",
            "string indices must be integers\n",
            "string indices must be integers\n",
            "string indices must be integers\n",
            "string indices must be integers\n"
          ]
        },
        {
          "name": "stderr",
          "output_type": "stream",
          "text": [
            " 13%|█▎        | 733/5772 [01:21<03:20, 25.09it/s]"
          ]
        },
        {
          "name": "stdout",
          "output_type": "stream",
          "text": [
            "string indices must be integers\n",
            "string indices must be integers\n",
            "string indices must be integers\n",
            "string indices must be integers\n",
            "string indices must be integers\n"
          ]
        },
        {
          "name": "stderr",
          "output_type": "stream",
          "text": [
            " 13%|█▎        | 737/5772 [01:21<03:07, 26.79it/s]"
          ]
        },
        {
          "name": "stdout",
          "output_type": "stream",
          "text": [
            "string indices must be integers\n"
          ]
        },
        {
          "name": "stderr",
          "output_type": "stream",
          "text": [
            " 13%|█▎        | 740/5772 [01:21<03:44, 22.44it/s]"
          ]
        },
        {
          "name": "stdout",
          "output_type": "stream",
          "text": [
            "string indices must be integers\n"
          ]
        },
        {
          "name": "stderr",
          "output_type": "stream",
          "text": [
            " 13%|█▎        | 746/5772 [01:21<03:55, 21.31it/s]"
          ]
        },
        {
          "name": "stdout",
          "output_type": "stream",
          "text": [
            "string indices must be integers\n",
            "string indices must be integers\n",
            "string indices must be integers\n"
          ]
        },
        {
          "name": "stderr",
          "output_type": "stream",
          "text": [
            " 13%|█▎        | 754/5772 [01:22<04:22, 19.13it/s]"
          ]
        },
        {
          "name": "stdout",
          "output_type": "stream",
          "text": [
            "string indices must be integers\n"
          ]
        },
        {
          "name": "stderr",
          "output_type": "stream",
          "text": [
            " 13%|█▎        | 759/5772 [01:22<05:47, 14.44it/s]"
          ]
        },
        {
          "name": "stdout",
          "output_type": "stream",
          "text": [
            "string indices must be integers\n",
            "string indices must be integers\n"
          ]
        },
        {
          "name": "stderr",
          "output_type": "stream",
          "text": [
            " 13%|█▎        | 766/5772 [01:23<04:20, 19.22it/s]"
          ]
        },
        {
          "name": "stdout",
          "output_type": "stream",
          "text": [
            "string indices must be integers\n",
            "string indices must be integers\n",
            "string indices must be integers\n",
            "string indices must be integers\n"
          ]
        },
        {
          "name": "stderr",
          "output_type": "stream",
          "text": [
            " 13%|█▎        | 774/5772 [01:23<04:05, 20.34it/s]"
          ]
        },
        {
          "name": "stdout",
          "output_type": "stream",
          "text": [
            "string indices must be integers\n",
            "string indices must be integers\n"
          ]
        },
        {
          "name": "stderr",
          "output_type": "stream",
          "text": [
            " 13%|█▎        | 777/5772 [01:23<04:09, 20.02it/s]"
          ]
        },
        {
          "name": "stdout",
          "output_type": "stream",
          "text": [
            "string indices must be integers\n"
          ]
        },
        {
          "name": "stderr",
          "output_type": "stream",
          "text": [
            " 14%|█▎        | 787/5772 [01:24<05:13, 15.90it/s]"
          ]
        },
        {
          "name": "stdout",
          "output_type": "stream",
          "text": [
            "string indices must be integers\n",
            "string indices must be integers\n",
            "string indices must be integers\n"
          ]
        },
        {
          "name": "stderr",
          "output_type": "stream",
          "text": [
            " 14%|█▍        | 799/5772 [01:24<04:29, 18.46it/s]"
          ]
        },
        {
          "name": "stdout",
          "output_type": "stream",
          "text": [
            "string indices must be integers\n",
            "string indices must be integers\n",
            "string indices must be integers\n"
          ]
        },
        {
          "name": "stderr",
          "output_type": "stream",
          "text": [
            " 14%|█▍        | 808/5772 [01:25<04:04, 20.30it/s]"
          ]
        },
        {
          "name": "stdout",
          "output_type": "stream",
          "text": [
            "string indices must be integers\n",
            "string indices must be integers\n",
            "string indices must be integers\n",
            "string indices must be integers\n"
          ]
        },
        {
          "name": "stderr",
          "output_type": "stream",
          "text": [
            " 14%|█▍        | 816/5772 [01:25<03:33, 23.16it/s]"
          ]
        },
        {
          "name": "stdout",
          "output_type": "stream",
          "text": [
            "string indices must be integers\n",
            "string indices must be integers\n"
          ]
        },
        {
          "name": "stderr",
          "output_type": "stream",
          "text": [
            " 14%|█▍        | 832/5772 [01:26<03:49, 21.53it/s]"
          ]
        },
        {
          "name": "stdout",
          "output_type": "stream",
          "text": [
            "string indices must be integers\n",
            "string indices must be integers\n",
            "string indices must be integers\n"
          ]
        },
        {
          "name": "stderr",
          "output_type": "stream",
          "text": [
            " 15%|█▍        | 846/5772 [01:27<03:26, 23.87it/s]"
          ]
        },
        {
          "name": "stdout",
          "output_type": "stream",
          "text": [
            "string indices must be integers\n",
            "string indices must be integers\n",
            "string indices must be integers\n",
            "string indices must be integers\n",
            "string indices must be integers\n",
            "string indices must be integers\n",
            "string indices must be integers\n",
            "string indices must be integers\n",
            "string indices must be integers\n"
          ]
        },
        {
          "name": "stderr",
          "output_type": "stream",
          "text": [
            " 15%|█▍        | 856/5772 [01:27<03:07, 26.26it/s]"
          ]
        },
        {
          "name": "stdout",
          "output_type": "stream",
          "text": [
            "string indices must be integers\n"
          ]
        },
        {
          "name": "stderr",
          "output_type": "stream",
          "text": [
            " 15%|█▍        | 863/5772 [01:28<03:52, 21.10it/s]"
          ]
        },
        {
          "name": "stdout",
          "output_type": "stream",
          "text": [
            "string indices must be integers\n",
            "string indices must be integers\n"
          ]
        },
        {
          "name": "stderr",
          "output_type": "stream",
          "text": [
            " 15%|█▌        | 869/5772 [01:28<04:06, 19.85it/s]"
          ]
        },
        {
          "name": "stdout",
          "output_type": "stream",
          "text": [
            "string indices must be integers\n",
            "string indices must be integers\n",
            "string indices must be integers\n",
            "string indices must be integers\n",
            "string indices must be integers\n"
          ]
        },
        {
          "name": "stderr",
          "output_type": "stream",
          "text": [
            " 16%|█▌        | 895/5772 [01:29<02:34, 31.50it/s]"
          ]
        },
        {
          "name": "stdout",
          "output_type": "stream",
          "text": [
            "string indices must be integers\n",
            "string indices must be integers\n",
            "string indices must be integers\n",
            "string indices must be integers\n",
            "string indices must be integers\n",
            "string indices must be integers\n",
            "string indices must be integers\n",
            "string indices must be integers\n"
          ]
        },
        {
          "name": "stderr",
          "output_type": "stream",
          "text": [
            " 16%|█▌        | 899/5772 [01:29<02:55, 27.71it/s]"
          ]
        },
        {
          "name": "stdout",
          "output_type": "stream",
          "text": [
            "string indices must be integers\n",
            "string indices must be integers\n",
            "string indices must be integers\n"
          ]
        },
        {
          "name": "stderr",
          "output_type": "stream",
          "text": [
            " 16%|█▌        | 916/5772 [01:32<09:16,  8.72it/s]"
          ]
        },
        {
          "name": "stdout",
          "output_type": "stream",
          "text": [
            "string indices must be integers\n",
            "string indices must be integers\n"
          ]
        },
        {
          "name": "stderr",
          "output_type": "stream",
          "text": [
            " 16%|█▌        | 922/5772 [01:33<06:09, 13.12it/s]"
          ]
        },
        {
          "name": "stdout",
          "output_type": "stream",
          "text": [
            "string indices must be integers\n",
            "string indices must be integers\n",
            "string indices must be integers\n"
          ]
        },
        {
          "name": "stderr",
          "output_type": "stream",
          "text": [
            " 16%|█▌        | 937/5772 [01:34<05:32, 14.53it/s]"
          ]
        },
        {
          "name": "stdout",
          "output_type": "stream",
          "text": [
            "string indices must be integers\n",
            "string indices must be integers\n",
            "string indices must be integers\n"
          ]
        },
        {
          "name": "stderr",
          "output_type": "stream",
          "text": [
            " 16%|█▋        | 941/5772 [01:34<05:17, 15.23it/s]"
          ]
        },
        {
          "name": "stdout",
          "output_type": "stream",
          "text": [
            "string indices must be integers\n",
            "string indices must be integers\n"
          ]
        },
        {
          "name": "stderr",
          "output_type": "stream",
          "text": [
            " 16%|█▋        | 945/5772 [01:34<05:21, 15.01it/s]"
          ]
        },
        {
          "name": "stdout",
          "output_type": "stream",
          "text": [
            "string indices must be integers\n",
            "string indices must be integers\n",
            "string indices must be integers\n",
            "string indices must be integers\n"
          ]
        },
        {
          "name": "stderr",
          "output_type": "stream",
          "text": [
            " 17%|█▋        | 954/5772 [01:35<04:09, 19.32it/s]"
          ]
        },
        {
          "name": "stdout",
          "output_type": "stream",
          "text": [
            "string indices must be integers\n",
            "string indices must be integers\n",
            "string indices must be integers\n"
          ]
        },
        {
          "name": "stderr",
          "output_type": "stream",
          "text": [
            " 17%|█▋        | 957/5772 [01:35<04:27, 18.02it/s]"
          ]
        },
        {
          "name": "stdout",
          "output_type": "stream",
          "text": [
            "string indices must be integers\n",
            "string indices must be integers\n"
          ]
        },
        {
          "name": "stderr",
          "output_type": "stream",
          "text": [
            " 17%|█▋        | 964/5772 [01:36<05:20, 14.99it/s]"
          ]
        },
        {
          "name": "stdout",
          "output_type": "stream",
          "text": [
            "string indices must be integers\n"
          ]
        },
        {
          "name": "stderr",
          "output_type": "stream",
          "text": [
            " 17%|█▋        | 967/5772 [01:36<04:52, 16.42it/s]"
          ]
        },
        {
          "name": "stdout",
          "output_type": "stream",
          "text": [
            "string indices must be integers\n",
            "string indices must be integers\n",
            "string indices must be integers\n"
          ]
        },
        {
          "name": "stderr",
          "output_type": "stream",
          "text": [
            " 17%|█▋        | 975/5772 [01:36<04:07, 19.36it/s]"
          ]
        },
        {
          "name": "stdout",
          "output_type": "stream",
          "text": [
            "string indices must be integers\n",
            "string indices must be integers\n"
          ]
        },
        {
          "name": "stderr",
          "output_type": "stream",
          "text": [
            " 17%|█▋        | 986/5772 [01:37<05:32, 14.40it/s]"
          ]
        },
        {
          "name": "stdout",
          "output_type": "stream",
          "text": [
            "string indices must be integers\n",
            "string indices must be integers\n",
            "string indices must be integers\n"
          ]
        },
        {
          "name": "stderr",
          "output_type": "stream",
          "text": [
            " 17%|█▋        | 995/5772 [01:37<03:58, 20.04it/s]"
          ]
        },
        {
          "name": "stdout",
          "output_type": "stream",
          "text": [
            "string indices must be integers\n",
            "string indices must be integers\n",
            "string indices must be integers\n"
          ]
        },
        {
          "name": "stderr",
          "output_type": "stream",
          "text": [
            " 17%|█▋        | 1002/5772 [01:38<03:46, 21.09it/s]"
          ]
        },
        {
          "name": "stdout",
          "output_type": "stream",
          "text": [
            "string indices must be integers\n",
            "string indices must be integers\n",
            "string indices must be integers\n"
          ]
        },
        {
          "name": "stderr",
          "output_type": "stream",
          "text": [
            " 17%|█▋        | 1008/5772 [01:38<04:05, 19.44it/s]"
          ]
        },
        {
          "name": "stdout",
          "output_type": "stream",
          "text": [
            "string indices must be integers\n",
            "string indices must be integers\n"
          ]
        },
        {
          "name": "stderr",
          "output_type": "stream",
          "text": [
            " 18%|█▊        | 1020/5772 [01:39<04:19, 18.32it/s]"
          ]
        },
        {
          "name": "stdout",
          "output_type": "stream",
          "text": [
            "string indices must be integers\n",
            "string indices must be integers\n",
            "string indices must be integers\n"
          ]
        },
        {
          "name": "stderr",
          "output_type": "stream",
          "text": [
            " 18%|█▊        | 1031/5772 [01:39<03:55, 20.16it/s]"
          ]
        },
        {
          "name": "stdout",
          "output_type": "stream",
          "text": [
            "string indices must be integers\n",
            "string indices must be integers\n",
            "string indices must be integers\n"
          ]
        },
        {
          "name": "stderr",
          "output_type": "stream",
          "text": [
            " 18%|█▊        | 1040/5772 [01:40<05:36, 14.06it/s]"
          ]
        },
        {
          "name": "stdout",
          "output_type": "stream",
          "text": [
            "string indices must be integers\n",
            "string indices must be integers\n"
          ]
        },
        {
          "name": "stderr",
          "output_type": "stream",
          "text": [
            " 18%|█▊        | 1044/5772 [01:40<05:06, 15.44it/s]"
          ]
        },
        {
          "name": "stdout",
          "output_type": "stream",
          "text": [
            "string indices must be integers\n"
          ]
        },
        {
          "name": "stderr",
          "output_type": "stream",
          "text": [
            " 18%|█▊        | 1050/5772 [01:41<04:41, 16.76it/s]"
          ]
        },
        {
          "name": "stdout",
          "output_type": "stream",
          "text": [
            "string indices must be integers\n"
          ]
        },
        {
          "name": "stderr",
          "output_type": "stream",
          "text": [
            " 18%|█▊        | 1060/5772 [01:41<03:58, 19.74it/s]"
          ]
        },
        {
          "name": "stdout",
          "output_type": "stream",
          "text": [
            "string indices must be integers\n",
            "string indices must be integers\n",
            "string indices must be integers\n",
            "string indices must be integers\n",
            "string indices must be integers\n",
            "string indices must be integers\n"
          ]
        },
        {
          "name": "stderr",
          "output_type": "stream",
          "text": [
            " 19%|█▊        | 1068/5772 [01:42<05:25, 14.43it/s]"
          ]
        },
        {
          "name": "stdout",
          "output_type": "stream",
          "text": [
            "string indices must be integers\n"
          ]
        },
        {
          "name": "stderr",
          "output_type": "stream",
          "text": [
            " 19%|█▊        | 1074/5772 [01:42<04:21, 17.94it/s]"
          ]
        },
        {
          "name": "stdout",
          "output_type": "stream",
          "text": [
            "string indices must be integers\n",
            "string indices must be integers\n",
            "string indices must be integers\n",
            "string indices must be integers\n",
            "string indices must be integers\n",
            "string indices must be integers\n",
            "string indices must be integers\n"
          ]
        },
        {
          "name": "stderr",
          "output_type": "stream",
          "text": [
            " 19%|█▉        | 1086/5772 [01:43<04:02, 19.34it/s]"
          ]
        },
        {
          "name": "stdout",
          "output_type": "stream",
          "text": [
            "string indices must be integers\n"
          ]
        },
        {
          "name": "stderr",
          "output_type": "stream",
          "text": [
            " 19%|█▉        | 1094/5772 [01:43<04:08, 18.83it/s]"
          ]
        },
        {
          "name": "stdout",
          "output_type": "stream",
          "text": [
            "string indices must be integers\n",
            "string indices must be integers\n"
          ]
        },
        {
          "name": "stderr",
          "output_type": "stream",
          "text": [
            " 19%|█▉        | 1103/5772 [01:44<04:03, 19.20it/s]"
          ]
        },
        {
          "name": "stdout",
          "output_type": "stream",
          "text": [
            "string indices must be integers\n",
            "string indices must be integers\n",
            "string indices must be integers\n"
          ]
        },
        {
          "name": "stderr",
          "output_type": "stream",
          "text": [
            " 19%|█▉        | 1115/5772 [01:45<04:58, 15.60it/s]"
          ]
        },
        {
          "name": "stdout",
          "output_type": "stream",
          "text": [
            "string indices must be integers\n",
            "string indices must be integers\n",
            "string indices must be integers\n"
          ]
        },
        {
          "name": "stderr",
          "output_type": "stream",
          "text": [
            " 20%|█▉        | 1126/5772 [01:45<04:00, 19.35it/s]"
          ]
        },
        {
          "name": "stdout",
          "output_type": "stream",
          "text": [
            "string indices must be integers\n",
            "string indices must be integers\n",
            "string indices must be integers\n",
            "string indices must be integers\n",
            "string indices must be integers\n",
            "string indices must be integers\n",
            "string indices must be integers\n",
            "string indices must be integers\n",
            "string indices must be integers\n"
          ]
        },
        {
          "name": "stderr",
          "output_type": "stream",
          "text": [
            " 20%|█▉        | 1142/5772 [01:46<03:20, 23.15it/s]"
          ]
        },
        {
          "name": "stdout",
          "output_type": "stream",
          "text": [
            "string indices must be integers\n",
            "string indices must be integers\n"
          ]
        },
        {
          "name": "stderr",
          "output_type": "stream",
          "text": [
            " 20%|█▉        | 1153/5772 [01:46<02:49, 27.19it/s]"
          ]
        },
        {
          "name": "stdout",
          "output_type": "stream",
          "text": [
            "string indices must be integers\n",
            "string indices must be integers\n",
            "string indices must be integers\n",
            "string indices must be integers\n",
            "string indices must be integers\n",
            "string indices must be integers\n"
          ]
        },
        {
          "name": "stderr",
          "output_type": "stream",
          "text": [
            " 20%|██        | 1161/5772 [01:46<03:06, 24.70it/s]"
          ]
        },
        {
          "name": "stdout",
          "output_type": "stream",
          "text": [
            "string indices must be integers\n",
            "string indices must be integers\n",
            "string indices must be integers\n"
          ]
        },
        {
          "name": "stderr",
          "output_type": "stream",
          "text": [
            " 20%|██        | 1164/5772 [01:47<03:32, 21.67it/s]"
          ]
        },
        {
          "name": "stdout",
          "output_type": "stream",
          "text": [
            "string indices must be integers\n"
          ]
        },
        {
          "name": "stderr",
          "output_type": "stream",
          "text": [
            " 95%|█████████▍| 5482/5772 [18:55<00:18, 15.74it/s]  "
          ]
        },
        {
          "name": "stdout",
          "output_type": "stream",
          "text": [
            "string indices must be integers\n"
          ]
        },
        {
          "name": "stderr",
          "output_type": "stream",
          "text": [
            " 98%|█████████▊| 5637/5772 [19:07<00:09, 14.58it/s]"
          ]
        },
        {
          "name": "stdout",
          "output_type": "stream",
          "text": [
            "string indices must be integers\n"
          ]
        },
        {
          "name": "stderr",
          "output_type": "stream",
          "text": [
            "100%|█████████▉| 5758/5772 [19:15<00:00, 15.65it/s]"
          ]
        },
        {
          "name": "stdout",
          "output_type": "stream",
          "text": [
            "string indices must be integers\n"
          ]
        },
        {
          "name": "stderr",
          "output_type": "stream",
          "text": [
            "100%|█████████▉| 5768/5772 [19:16<00:00, 17.68it/s]"
          ]
        },
        {
          "name": "stdout",
          "output_type": "stream",
          "text": [
            "string indices must be integers\n",
            "string indices must be integers\n"
          ]
        },
        {
          "name": "stderr",
          "output_type": "stream",
          "text": [
            "100%|██████████| 5772/5772 [19:16<00:00,  4.99it/s]\n"
          ]
        }
      ],
      "source": [
        "#2 getting sentiment scores from individual comments in row[Comments]\n",
        "# preparing output\n",
        "sentiment_list = [] #list of dict:{average label: real from 1-5, average score: }\n",
        "sentiment_mapping = {\n",
        "    1: \"Very Negative\",\n",
        "    2: \"Negative\",\n",
        "    3: \"Neutral\",\n",
        "    4: \"Positive\",\n",
        "    5: \"Very Positive\"\n",
        "}\n",
        "numerical_mapping = {v: k for k, v in sentiment_mapping.items()}\n",
        "progress = 0\n",
        "#processing\n",
        "\n",
        "from tqdm import tqdm\n",
        "\n",
        "\n",
        "from pymongo.mongo_client import MongoClient\n",
        "from pymongo.server_api import ServerApi\n",
        "import os\n",
        "from dotenv import load_dotenv\n",
        "load_dotenv()\n",
        "\n",
        "uri = os.environ.get(\"MONGODB_URI\")\n",
        "\n",
        "client = MongoClient(uri, server_api=ServerApi('1'))\n",
        "db = client[\"fit-check\"]\n",
        "collection = db[\"embeddings\"]\n",
        "\n",
        "for row in tqdm(data[6787:]):\n",
        "    try: # i give up\n",
        "        total_weightage = 0\n",
        "        total_result = 0\n",
        "        comments_list = []\n",
        "        score_list = []\n",
        "        if row[\"Comments\"] == [\"No comments\"]:\n",
        "            continue\n",
        "        for comment in row['Comments']:\n",
        "            truncated_comment = comment['body']\n",
        "            comments_list.append(truncated_comment)\n",
        "            score_list.append(comment['score'])\n",
        "        # result = pipe(comments_list, truncation=True, max_length=512)\n",
        "        # print(result)\n",
        "        result = call_api(comments_list)\n",
        "        for i in range(len(comments_list)):\n",
        "            label = numerical_mapping[result[i]['label']]\n",
        "            weighted_result = score_list[i]*label\n",
        "            total_weightage += score_list[i]\n",
        "            total_result += weighted_result\n",
        "        if total_weightage == 0:\n",
        "            total_weightage = 1 #????\n",
        "        post_score = total_result/total_weightage\n",
        "        sentiment_list.append(post_score)\n",
        "        #print(progress, end=\" \")\n",
        "        progress = progress+1\n",
        "\n",
        "        collection.insert_one({\n",
        "            \"title\": row[\"Title\"],\n",
        "            \"comments\": row[\"Comments\"],\n",
        "            \"image\": row[\"Images\"],\n",
        "            \"score\": row[\"Score\"],\n",
        "            \"sentiment\": post_score\n",
        "        })\n",
        "    except Exception as e:\n",
        "        print(e)\n",
        "\n",
        "        "
      ]
    },
    {
      "cell_type": "code",
      "execution_count": null,
      "id": "2a3096ac",
      "metadata": {},
      "outputs": [],
      "source": [
        "collection.aggregate([\n",
        "    {\"$group\" : { \"_id\": \"Title\", \"count\": { \"$sum\": 1 } } },\n",
        "    {\"$match\": {\"_id\" :{ \"$ne\" : 0 } , \"count\" : {\"$gt\": 1} } }, \n",
        "    {\"$project\": {\"Title\" : \"$_id\", \"_id\" : 0} }\n",
        "]);\n"
      ]
    },
    {
      "cell_type": "code",
      "execution_count": 43,
      "id": "49330577",
      "metadata": {},
      "outputs": [
        {
          "data": {
            "text/plain": [
              "{'Title': 'GTA inspired outfits ',\n",
              " 'Description': 'Mask: HUF\\nHoodie: Uniqlo \\nJersey: NHL\\nTrousers: Dickies 874\\nBoots: ROCA Supplies',\n",
              " 'Score': '117',\n",
              " 'URL': 'https://www.reddit.com/gallery/1h1r9ik',\n",
              " 'Author': 'Oceani_MAOwg',\n",
              " 'Created UTC': '2024-11-28 08:11:41',\n",
              " 'Images': 'https://preview.redd.it/7vngmnq0pl3e1.jpg?width=3622&format=pjpg&auto=webp&s=ea33163cc3245181434aeb17d0041e6a0d7948f4, https://preview.redd.it/2pj6goq0pl3e1.jpg?width=4000&format=pjpg&auto=webp&s=dcd79c6c229741d689481055742e9f73a47afdad, https://preview.redd.it/36wo2oq0pl3e1.jpg?width=4000&format=pjpg&auto=webp&s=7a15a06fcf4688ff8326e7f10299b44479af8fdf, https://preview.redd.it/e3yg6nq0pl3e1.jpg?width=4000&format=pjpg&auto=webp&s=5a1f162971e833d9375215cc16f4376fad835643, https://preview.redd.it/hdprtnq0pl3e1.jpg?width=4000&format=pjpg&auto=webp&s=c5436798236dd324b12a4396cc8f37e3d1c90496, https://preview.redd.it/81zi0oq0pl3e1.jpg?width=4000&format=pjpg&auto=webp&s=2d20f95f5694754d5662681b92a06f2733f3bae5',\n",
              " 'Comments': '[{\\'author\\': \\'Goabea\\', \\'body\\': \\'Finally, some Street Wear.  \\\\nNot Carhartt Wear.   \\\\nThank you <3\\', \\'score\\': 13, \\'created_utc\\': \\'2024-11-28 11:45:50\\'}, {\\'author\\': \\'None\\', \\'body\\': \\'Lol what the fuck is GTA inspired?\\', \\'score\\': 6, \\'created_utc\\': \\'2024-11-28 12:26:39\\'}, {\\'author\\': \\'Hazys\\', \\'body\\': \\'😎\\', \\'score\\': 3, \\'created_utc\\': \\'2024-11-28 11:14:53\\'}, {\\'author\\': \\'Oceani_MAOwg\\', \\'body\\': \\'Thanks for ya support 🥳\\', \\'score\\': 3, \\'created_utc\\': \\'2024-11-28 14:48:55\\'}, {\\'author\\': \\'TypeRGirl\\', \\'body\\': \\'The sheisty plays 🥷\\', \\'score\\': 2, \\'created_utc\\': \\'2024-11-28 14:50:05\\'}, {\\'author\\': \\'JRaymond37\\', \\'body\\': \\'One of the best jerseys in all of sports.\\', \\'score\\': 2, \\'created_utc\\': \\'2024-11-29 18:12:12\\'}, {\\'author\\': \\'Oceani_MAOwg\\', \\'body\\': \\'I’ve had this for over 5 years and it is still in very good condition, I am really impressed by their quality actually.\\', \\'score\\': 2, \\'created_utc\\': \\'2024-11-30 03:22:01\\'}, {\\'author\\': \\'AutoModerator\\', \\'body\\': \\'/u/Oceani_MAOwg, please comment with an outfit breakdown (brands for each item) as per [the rules](https://www.reddit.com/r/streetwear/about/rules) or your post will be removed shortly.\\\\n\\\\n*I am a bot, and this action was performed automatically. Please [contact the moderators of this subreddit](/message/compose/?to=/r/streetwear) if you have any questions or concerns.*\\', \\'score\\': 1, \\'created_utc\\': \\'2024-11-28 08:11:42\\'}, {\\'author\\': \\'MacDontMiss\\', \\'body\\': \\'That’s tuff frrrr\\', \\'score\\': 1, \\'created_utc\\': \\'2024-11-30 16:42:36\\'}, {\\'author\\': \\'Gamped\\', \\'body\\': \\'Clearly Vice City.\\', \\'score\\': 1, \\'created_utc\\': \\'2024-11-28 14:21:02\\'}, {\\'author\\': \\'Oceani_MAOwg\\', \\'body\\': \\'Mask: HUF, Hoodie: Uniqlo, Jersey: NHL, Pants: Dickies 874, Boots: ROCA Supplies, Combat Boots\\', \\'score\\': 1, \\'created_utc\\': \\'2024-11-28 08:16:20\\'}, {\\'author\\': \\'Oceani_MAOwg\\', \\'body\\': \\'Thanks for supporting \\U0001faf6🏽\\', \\'score\\': 1, \\'created_utc\\': \\'2024-12-04 15:31:12\\'}, {\\'author\\': \\'Oceani_MAOwg\\', \\'body\\': \\'Vice City, if I could add music for these pics it’s gonna be r-Cali.\\', \\'score\\': 0, \\'created_utc\\': \\'2024-11-28 14:47:46\\'}, {\\'author\\': \\'None\\', \\'body\\': \\'Man you guys are so up your own assholes that some random asain guy with a jersey on is \"gta inspired\" like find me one npc in GTA vice city who looks like this little asain man\\', \\'score\\': -2, \\'created_utc\\': \\'2024-11-28 16:41:33\\'}]'}"
            ]
          },
          "execution_count": 43,
          "metadata": {},
          "output_type": "execute_result"
        }
      ],
      "source": [
        "row"
      ]
    },
    {
      "cell_type": "code",
      "execution_count": null,
      "id": "d7a9ac0e",
      "metadata": {},
      "outputs": [],
      "source": [
        "#embedding\n",
        "def run_embedding(images, titles, comments=None):\n",
        "    \"\"\"\n",
        "    Takes in a list of PIL images and a list of texts (length <77 tokens each)\n",
        "    Returns the image and text embedding vectors for the batch\n",
        "    \"\"\"\n",
        "    inputs = processor(\n",
        "        text=titles,\n",
        "        images=images,\n",
        "        return_tensors=\"pt\",\n",
        "        padding=True,\n",
        "        truncation=True,\n",
        "        max_length=77\n",
        "    )\n",
        "    inputs = {k: v.to(device) for k, v in inputs.items()}\n",
        "\n",
        "    # Forward pass\n",
        "    with torch.no_grad():\n",
        "        outputs = model(**inputs)\n",
        "\n",
        "    image_embeds = outputs.image_embeds\n",
        "    text_embeds = outputs.text_embeds\n",
        "\n",
        "    image_embeds = torch.nn.functional.normalize(image_embeds)\n",
        "    text_embeds = torch.nn.functional.normalize(text_embeds)\n",
        "\n",
        "    return image_embeds, text_embeds\n",
        "\n",
        "\n",
        "def combine_embeddings(image_embeds, text_embeds):\n",
        "    return 0.5 * image_embeds + 0.5 * text_embeds # weighted average"
      ]
    },
    {
      "cell_type": "code",
      "execution_count": 7,
      "id": "781eb6d6",
      "metadata": {},
      "outputs": [
        {
          "name": "stdout",
          "output_type": "stream",
          "text": [
            "Pinged your deployment. You successfully connected to MongoDB!\n"
          ]
        }
      ],
      "source": [
        "# test mongo connection\n",
        "from pymongo.mongo_client import MongoClient\n",
        "from pymongo.server_api import ServerApi\n",
        "import os\n",
        "from dotenv import load_dotenv\n",
        "load_dotenv()\n",
        "\n",
        "uri = os.environ.get(\"MONGODB_URI\")\n",
        "\n",
        "# Create a new client and connect to the server\n",
        "client = MongoClient(uri, server_api=ServerApi('1'))\n",
        "\n",
        "# Send a ping to confirm a successful connection\n",
        "try:\n",
        "  client.admin.command('ping')\n",
        "  print(\"Pinged your deployment. You successfully connected to MongoDB!\")\n",
        "except Exception as e:\n",
        "  print(e)\n",
        "\n",
        "client.close()"
      ]
    },
    {
      "cell_type": "code",
      "execution_count": 21,
      "id": "d937ebb9",
      "metadata": {},
      "outputs": [
        {
          "name": "stderr",
          "output_type": "stream",
          "text": [
            "  0%|          | 0/62 [00:00<?, ?it/s]"
          ]
        },
        {
          "name": "stdout",
          "output_type": "stream",
          "text": [
            "https://preview.redd.it/wuldlke19tvd1.jpg?width=2316&format=pjpg&auto=webp&s=540e1aacf9c17e36ee23b358f1500b4e1db43d81\n",
            "https://preview.redd.it/vhe7qe73vxdd1.jpg?width=1178&format=pjpg&auto=webp&s=a75dd488c7de94b6dd9d2af250d4c551d31316ff\n",
            "https://i.redd.it/phtr7z19xz8d1.jpeg\n",
            "https://preview.redd.it/49wnbjp25bvd1.jpg?width=1179&format=pjpg&auto=webp&s=c85ac5013f2a197d8c1145cb227f55ff8c496ace\n",
            "https://preview.redd.it/5dryq4q8l8pd1.jpg?width=2080&format=pjpg&auto=webp&s=6d570e43c33db1106bfd41f03130ede84f6775cf\n",
            "https://i.redd.it/ei7o5urb1rud1.jpeg\n",
            "https://i.redd.it/ce6rr4bkvcad1.jpeg\n",
            "https://preview.redd.it/r2d9ftruw14e1.jpg?width=960&format=pjpg&auto=webp&s=0970bc3a9d4af09e5f009dbcb2a3624116e4050d\n",
            "https://preview.redd.it/vqkdt1pduypd1.jpg?width=3369&format=pjpg&auto=webp&s=73d2abe53c5f42ed26613c52c15b7d3cc78d1f10\n",
            "https://preview.redd.it/gnosr651iuqd1.jpg?width=2160&format=pjpg&auto=webp&s=e66cb34c77d8247f91c06ca06de7cf3dab7ee4fb\n",
            "https://preview.redd.it/mohphxtxlq0e1.jpg?width=761&format=pjpg&auto=webp&s=8e0b25b760fa28154d769bec680bfdfc2c3b7a81\n",
            "https://preview.redd.it/u2viqyf22ggd1.jpg?width=1178&format=pjpg&auto=webp&s=7e7f31a47b250af1047aa642e62265b0b643cc7f\n",
            "https://preview.redd.it/rstiirjz4s3d1.jpg?width=2522&format=pjpg&auto=webp&s=9d4251206f87d143ab530f9fcc8f0cb749818ac8\n",
            "https://preview.redd.it/ki43g55k2b2e1.jpg?width=2736&format=pjpg&auto=webp&s=ecb691b84e3500cee2343dd093ea97ceadcf3946\n",
            "https://preview.redd.it/cqhec7067o7e1.jpg?width=1334&format=pjpg&auto=webp&s=f04e568b5279863a203ddc98dea4b322082ade92\n",
            "https://i.redd.it/icif4w8b15ud1.png\n"
          ]
        },
        {
          "name": "stderr",
          "output_type": "stream",
          "text": [
            "  2%|▏         | 1/62 [00:04<04:21,  4.28s/it]"
          ]
        },
        {
          "name": "stdout",
          "output_type": "stream",
          "text": [
            "https://preview.redd.it/dlf7sbfed97e1.jpg?width=2791&format=pjpg&auto=webp&s=1d476d950a23c797c946831a82bdd6674131c0d3\n",
            "https://preview.redd.it/vxvocpo1k23e1.png?width=1440&format=png&auto=webp&s=8e6859864310f15c57a4092d2710c57634156fed\n",
            "https://preview.redd.it/9ki1bzeygp5e1.jpg?width=3024&format=pjpg&auto=webp&s=19034ec605f68f3bc32bc900cd0c6bf17a86aa21\n",
            "https://preview.redd.it/iyj0xe4apu7e1.jpg?width=3072&format=pjpg&auto=webp&s=f6e905da6be4b525c5107aae4f1576a6b44cd0a1\n",
            "https://preview.redd.it/5ssalpmng6wd1.jpg?width=3024&format=pjpg&auto=webp&s=02a9795a8722660cd7321b5f9b8787d99a6176c9\n",
            "https://preview.redd.it/lpzvqjhajl8d1.jpg?width=1728&format=pjpg&auto=webp&s=a28b730a853eb793494909429843d3f2a5102eb0\n",
            "https://preview.redd.it/gh5h8ne4up4d1.jpg?width=1440&format=pjpg&auto=webp&s=48776732a880d2fcffc3e1e12fb585aa2d6dd927\n",
            "https://i.redd.it/ebg4xo4kn0od1.jpeg\n",
            "https://preview.redd.it/a229ihn2vctd1.jpg?width=900&format=pjpg&auto=webp&s=5cbf5e2443231db0f11e8c4eb219f72195aec31b\n",
            "https://i.redd.it/7hcnxzj59wyd1.jpeg\n",
            "https://i.redd.it/3q0gdmrbpg9e1.jpeg\n",
            "https://preview.redd.it/blkyt0005ybd1.jpg?width=3024&format=pjpg&auto=webp&s=ab0f5bd5899180b0cfc7243d6556818c5c58261a\n",
            "https://preview.redd.it/wlbdhtusig4e1.jpg?width=3438&format=pjpg&auto=webp&s=6e1b79c8ca768c4bf5ddef74cf1baa0f2b2e4d7d\n",
            "https://preview.redd.it/7kenskdvhhed1.jpg?width=1178&format=pjpg&auto=webp&s=e7023a7ab4dd49565003185c5cccee115a0b1377\n",
            "https://i.redd.it/4qonkxly4x5e1.jpeg\n",
            "https://preview.redd.it/pgygisbck24e1.jpg?width=2044&format=pjpg&auto=webp&s=ae16b98b2b4e7070699ba672f7931600de2a081a\n"
          ]
        },
        {
          "name": "stderr",
          "output_type": "stream",
          "text": [
            "  3%|▎         | 2/62 [00:08<03:59,  3.99s/it]"
          ]
        },
        {
          "name": "stdout",
          "output_type": "stream",
          "text": [
            "https://preview.redd.it/a0kc1r6ncp4e1.jpg?width=2584&format=pjpg&auto=webp&s=6713337c1293432985f0d84d397a041adf96824a\n",
            "https://i.redd.it/ao8n6gmv0lnd1.jpeg\n",
            "https://preview.redd.it/09h96ah36tzd1.jpg?width=3024&format=pjpg&auto=webp&s=bcccd901d82144f896aae057e5b80ce3d960b82d\n",
            "https://preview.redd.it/m62wygpluz6d1.jpg?width=1440&format=pjpg&auto=webp&s=e0bbd58825e24184483657e532e74697bb70451e\n",
            "https://preview.redd.it/zgp46oyotc5d1.jpg?width=1876&format=pjpg&auto=webp&s=a137036adcf2855f55c6884e09af5db404119763\n",
            "https://preview.redd.it/d5yuty86b98e1.jpg?width=3072&format=pjpg&auto=webp&s=7f9c7052d7e686bc40ff8cd09a498dfa28da6842\n",
            "https://i.redd.it/mebeumo93bfd1.jpeg\n",
            "https://preview.redd.it/z23hf1gajjzd1.png?width=1076&format=png&auto=webp&s=983a6fd041aa5a9fd8ac63289f9ade81e13a9da7\n",
            "https://preview.redd.it/rojkwv6bru9d1.jpg?width=2152&format=pjpg&auto=webp&s=e9b8dbea6be3aa15f154df3b88fef179ed3ecbd4\n",
            "https://preview.redd.it/pb0fdjjw6gkd1.jpg?width=849&format=pjpg&auto=webp&s=545b3b59c740a7c4a856821e3aff0406f89320ec\n",
            "https://preview.redd.it/9aj7argoy56e1.jpg?width=1290&format=pjpg&auto=webp&s=4eb772262cd2af4b94c23b3ffe9084fadd781359\n",
            "https://preview.redd.it/bzh3p1u2aj7d1.jpg?width=1536&format=pjpg&auto=webp&s=d62e83b219fa0c5eb6671d9be5a4cfc8fe874678\n",
            "https://i.redd.it/s22stryqvwgd1.jpeg\n",
            "https://i.redd.it/32eujku1g6fd1.jpeg\n",
            "https://preview.redd.it/5kjsvebc9k9d1.jpg?width=3072&format=pjpg&auto=webp&s=dba5bb5a07c84ac6a0eb8603430f6156c482201e\n",
            "https://i.redd.it/j7id0a8e81yc1.jpeg\n"
          ]
        },
        {
          "name": "stderr",
          "output_type": "stream",
          "text": [
            "  5%|▍         | 3/62 [00:11<03:39,  3.72s/it]"
          ]
        },
        {
          "name": "stdout",
          "output_type": "stream",
          "text": [
            "https://i.redd.it/u1fx16gnrj9d1.jpeg\n",
            "https://preview.redd.it/z420a3xge0pd1.jpg?width=3024&format=pjpg&auto=webp&s=e97d69b824b389fda38de89b9f83357523db7b01\n",
            "https://preview.redd.it/og4qze1r8h5e1.jpg?width=3024&format=pjpg&auto=webp&s=c28bc09134f1fb729591df8386317dbb6e0dece8\n",
            "https://preview.redd.it/d0jxe0e3c44e1.jpg?width=3000&format=pjpg&auto=webp&s=d84cf97cde20637b24fdc1e5632491a435dc661e\n",
            "https://preview.redd.it/4vdo5u54r89e1.jpg?width=3072&format=pjpg&auto=webp&s=f4839063bc51817e93d54009545a42368118dac5\n",
            "https://preview.redd.it/sggq7suuhqvd1.jpg?width=3024&format=pjpg&auto=webp&s=145d1f5af0395f88e9bab560affdf6d6806ab489\n",
            "https://i.redd.it/q79ukxo9yjud1.png\n",
            "https://i.redd.it/4rob7rymi1nd1.jpeg\n",
            "https://i.redd.it/rnxhuv8a0r3d1.jpeg\n",
            "https://i.redd.it/6h9121y2zpdd1.jpeg\n",
            "https://i.redd.it/wna6205tk37e1.jpeg\n",
            "https://preview.redd.it/hzp8hs1xo1jd1.jpg?width=3024&format=pjpg&auto=webp&s=7649cde3adfbc6c0cfdfd72de81a6dc3f0134f66\n",
            "https://preview.redd.it/kkl9rzdzztvd1.jpg?width=2048&format=pjpg&auto=webp&s=194c6bc048a7d0c504596364bdb7ea196e30b891\n",
            "https://i.redd.it/u3jzwqrmy79e1.jpeg\n",
            "https://preview.redd.it/jglvj83h05gd1.jpg?width=1080&format=pjpg&auto=webp&s=5ab52f6ad10df701e3f0774a35dd39c04bab0216\n",
            "https://preview.redd.it/lquh316cberd1.jpg?width=3024&format=pjpg&auto=webp&s=f59b96b968fea301bd24337a31233343ac266d21\n"
          ]
        },
        {
          "name": "stderr",
          "output_type": "stream",
          "text": [
            "  6%|▋         | 4/62 [00:15<03:52,  4.00s/it]"
          ]
        },
        {
          "name": "stdout",
          "output_type": "stream",
          "text": [
            "https://preview.redd.it/dsm3jsm65rod1.jpg?width=1179&format=pjpg&auto=webp&s=ea179fdce5aaea4c50a29698cbee837319a4a608\n",
            "https://preview.redd.it/9o5t5b66qbid1.jpg?width=2269&format=pjpg&auto=webp&s=1bbf9dc6e8302cbcdddf6396b8100da4a73e365d\n",
            "https://preview.redd.it/u66mm98bnb3e1.jpg?width=2128&format=pjpg&auto=webp&s=d5bf306564621ded56e536dff05a6a6863069905\n",
            "https://preview.redd.it/19o4w521vumd1.jpg?width=1365&format=pjpg&auto=webp&s=3bd0cc7be4ddf2793d0e4dd349d9951cb0e6f61b\n",
            "https://preview.redd.it/71vylo0349ae1.jpg?width=4284&format=pjpg&auto=webp&s=43357cdca6fe1d5f68799ac8191e957f3759fb71\n",
            "https://preview.redd.it/3ow533dn3p0d1.jpg?width=4032&format=pjpg&auto=webp&s=2be072f9816fe1bb14751935621b0d1c4cff179c\n",
            "https://preview.redd.it/dy8puksfxp0e1.jpg?width=2160&format=pjpg&auto=webp&s=b18e8af5c19d1790012d9e94e348399495afda83\n",
            "https://i.redd.it/c6ng79mtkeld1.jpeg\n",
            "https://i.redd.it/oum0coqnyksd1.jpeg\n",
            "https://i.redd.it/msneae0hds0e1.jpeg\n",
            "https://i.redd.it/lz6svi81445e1.jpeg\n",
            "https://i.redd.it/9a3vpb8jgxtd1.jpeg\n",
            "https://preview.redd.it/vjm8mvd0xvgd1.jpg?width=3024&format=pjpg&auto=webp&s=73ce24cf518ace74af076fa0fd20bbde1dce7fe9\n",
            "https://preview.redd.it/xei5r6xsvuxc1.jpg?width=1365&format=pjpg&auto=webp&s=06fc9d2614774d14c0070fa8d5e04a49ff3fa28d\n",
            "https://preview.redd.it/19ggsak6uped1.jpg?width=1178&format=pjpg&auto=webp&s=3ee4646de06de569ead675af47cb916c89dc2fdf\n",
            "https://preview.redd.it/1rtufo954u9e1.jpg?width=2316&format=pjpg&auto=webp&s=e1c3093108fd4642c6edd24549d638cc5608dfc3\n"
          ]
        },
        {
          "name": "stderr",
          "output_type": "stream",
          "text": [
            "  8%|▊         | 5/62 [00:20<03:52,  4.08s/it]"
          ]
        },
        {
          "name": "stdout",
          "output_type": "stream",
          "text": [
            "https://preview.redd.it/e7sytudujxsd1.jpg?width=2480&format=pjpg&auto=webp&s=b16f600755f83ca2d5283dfc94d6e78af6f21146\n",
            "https://preview.redd.it/3hy2o4gpm1xc1.jpg?width=1488&format=pjpg&auto=webp&s=5573fe58aad0f663eebb2b9c09ded1748506b065\n",
            "https://preview.redd.it/hi22y9cd3b2d1.jpg?width=3000&format=pjpg&auto=webp&s=895bc13aeb6eacb2744e3f67e8cc66a4bc33d86e\n",
            "https://preview.redd.it/e11ymz3u779e1.jpg?width=2400&format=pjpg&auto=webp&s=246c46dff2d0e524ed49c1d7e5897ba5da596025\n",
            "https://preview.redd.it/abbyf6uzfa8d1.jpg?width=3024&format=pjpg&auto=webp&s=0562818422037be33f394a497d8e97f9a6abf510\n",
            "https://i.redd.it/syykynvf0j0e1.jpeg\n",
            "https://preview.redd.it/jc8xxy76zpvd1.jpg?width=3024&format=pjpg&auto=webp&s=d55b7eebeb0a95c70268667545104fe36d456e13\n",
            "https://preview.redd.it/zjx817qp2o1e1.png?width=1080&format=png&auto=webp&s=185efad79cb12c8892eadb5f50470d834c12e50d\n",
            "https://i.redd.it/06tnju7p2m7e1.jpeg\n",
            "https://preview.redd.it/f65dau0aqi6e1.jpg?width=3024&format=pjpg&auto=webp&s=3cdb29666453f29c6e8d426047579ddd5b41e1fb\n",
            "https://i.redd.it/12ya15e6l4vd1.jpeg\n",
            "https://i.redd.it/7rfhduatttld1.jpeg\n",
            "https://i.redd.it/vy5bzq6hmgnd1.jpeg\n",
            "https://i.redd.it/cnwdxps085sd1.jpeg\n",
            "https://preview.redd.it/of50qj2mp4ud1.jpg?width=3889&format=pjpg&auto=webp&s=bf965081adbc95bea6dd596f34c02833ce9ccda9\n",
            "https://i.redd.it/e8obghpoiv6e1.jpeg\n"
          ]
        },
        {
          "name": "stderr",
          "output_type": "stream",
          "text": [
            " 10%|▉         | 6/62 [00:23<03:43,  4.00s/it]"
          ]
        },
        {
          "name": "stdout",
          "output_type": "stream",
          "text": [
            "https://i.redd.it/qr45ntkcy4id1.jpeg\n",
            "https://preview.redd.it/barcy0j858ae1.jpg?width=1006&format=pjpg&auto=webp&s=e25129e8d96aea92d16856eb9387cd4e9320e9c4\n",
            "https://preview.redd.it/aa3w6g1a4ufd1.jpg?width=1178&format=pjpg&auto=webp&s=3d3de1baad92beae873760e252b7b1e6f8299824\n",
            "https://preview.redd.it/57719aywx5rd1.jpg?width=3024&format=pjpg&auto=webp&s=09dda2cff1a36ec4135bf158bad0de6bc17b18f7\n",
            "https://preview.redd.it/crag4c2jocbd1.jpg?width=715&format=pjpg&auto=webp&s=e2c807eb2221e1a8b6df1ee3c0ccec1923fed93c\n",
            "https://i.redd.it/88g8bc13fxxd1.jpeg\n",
            "https://preview.redd.it/jds0pvghg62d1.jpg?width=3072&format=pjpg&auto=webp&s=46566b97e210f293f5a20b4169300eab857c87a5\n",
            "https://i.redd.it/m1d0nd9nydxc1.jpeg\n",
            "https://i.redd.it/2db4k45oc9wd1.jpeg\n",
            "https://i.redd.it/dw1uuo7zkcud1.jpeg\n",
            "https://preview.redd.it/kx8k2ti7to7d1.jpg?width=1290&format=pjpg&auto=webp&s=8238fd0950e315c26e5448fb5c9fa9d438b2b3c2\n",
            "https://preview.redd.it/4jr5o1fnnl2d1.jpg?width=1536&format=pjpg&auto=webp&s=8d0dd82eb502277df7aed0400dbab869363d0e5e\n",
            "https://preview.redd.it/63ltq4znca1e1.png?width=1080&format=png&auto=webp&s=31ece688880111737c9b65cdd7329a2473f3002e\n",
            "https://i.redd.it/exndmuigyeyc1.jpeg\n",
            "https://preview.redd.it/i2qp4bc82c3d1.jpg?width=4928&format=pjpg&auto=webp&s=44e43a6954fc68bf0ca194593416417f861fca9a\n",
            "https://preview.redd.it/zj71mqtv30vd1.jpg?width=2520&format=pjpg&auto=webp&s=684d76a3a1498f4c370e9250287067b8fc36ecf6\n"
          ]
        },
        {
          "name": "stderr",
          "output_type": "stream",
          "text": [
            " 11%|█▏        | 7/62 [00:27<03:31,  3.85s/it]"
          ]
        },
        {
          "name": "stdout",
          "output_type": "stream",
          "text": [
            "https://preview.redd.it/gpl3nlpy9ahd1.jpg?width=4000&format=pjpg&auto=webp&s=12eb628c0f0e57c1d3d5fdab191c050299d0b2fb\n",
            "https://i.redd.it/djtrimye773d1.jpeg\n",
            "https://i.redd.it/3c0hsc3fsfqd1.jpeg\n",
            "https://i.redd.it/imuvh1e8j2id1.jpeg\n",
            "https://preview.redd.it/6xtc8w8vew4e1.jpg?width=3024&format=pjpg&auto=webp&s=d0660a7c28c564555d15bcf2f68806dc5432a0c7\n",
            "https://i.redd.it/98g5wd5xinjd1.jpeg\n",
            "https://preview.redd.it/kpdmgzq7241e1.jpg?width=2736&format=pjpg&auto=webp&s=b30f4bf00a74fb7816d5f7e6d48d7e6eb45fdb53\n",
            "https://preview.redd.it/ogcubjzpu4kd1.jpg?width=2268&format=pjpg&auto=webp&s=0c68ee6e856a00645b372b0ab8c1f7cfaeaa108d\n",
            "https://i.redd.it/qvcnhhyx9hkd1.jpeg\n",
            "https://preview.redd.it/wvphyjop4g6e1.jpg?width=1848&format=pjpg&auto=webp&s=78a8ec51a6ffaa8314e1b2259a20a4a3e091a2ac\n",
            "https://i.redd.it/v3o33oos0xbd1.jpeg\n",
            "https://preview.redd.it/18iijzkm0vxd1.jpg?width=1576&format=pjpg&auto=webp&s=b81d07ae00b6d92fd1396f30847fe4883fe8368b\n",
            "https://i.redd.it/yph3abc58iwd1.png\n",
            "https://i.redd.it/kfu7kawayvdd1.jpeg\n",
            "https://preview.redd.it/wsz4rfp0ko8e1.jpg?width=3024&format=pjpg&auto=webp&s=a9e1557bc7e96ffdde576430643673cb19b8a6fc\n",
            "https://i.redd.it/jmomslhyih3e1.jpeg\n"
          ]
        },
        {
          "name": "stderr",
          "output_type": "stream",
          "text": [
            " 13%|█▎        | 8/62 [00:31<03:35,  3.99s/it]"
          ]
        },
        {
          "name": "stdout",
          "output_type": "stream",
          "text": [
            "https://i.redd.it/h2r5tq79q06d1.png\n",
            "https://preview.redd.it/g46q3rl7gled1.jpg?width=1125&format=pjpg&auto=webp&s=038fe459ad67f36b50bda6bd4bb84cbb68c29897\n",
            "https://i.redd.it/72858c5ddp7e1.jpeg\n",
            "https://i.redd.it/j01xh20vivcd1.jpeg\n",
            "https://preview.redd.it/d1bq4meet15d1.jpg?width=2121&format=pjpg&auto=webp&s=c3e4f499dbea7562d548229c9005e5030404db55\n",
            "https://preview.redd.it/6t3aj6vcxlud1.jpg?width=3024&format=pjpg&auto=webp&s=73c19c6714755488fde8a0354cc54b85a71de3ea\n",
            "https://i.redd.it/hru3o4idy26e1.jpeg\n",
            "https://preview.redd.it/7urx1mjcv1qd1.jpg?width=2373&format=pjpg&auto=webp&s=f9512425ca23b12e3e0ddf67e8e8772def3965b1\n",
            "https://i.redd.it/c8ns3hxkox7d1.jpeg\n",
            "https://preview.redd.it/aux3dne5thad1.jpg?width=2665&format=pjpg&auto=webp&s=2d5e4c46b31632c5f66aa13338dd503f1e1d4e35\n",
            "https://preview.redd.it/aaqa6dgoz78e1.jpg?width=1242&format=pjpg&auto=webp&s=ceb1a908e609a92c33c8435d3708900d97c64831\n",
            "https://preview.redd.it/bfhu3y8isg2e1.jpg?width=1223&format=pjpg&auto=webp&s=d5b36278fa3fa3d8c3cd13b48fdaf4d93214f8a9\n",
            "https://i.redd.it/e6pjx4l62h4e1.jpeg\n",
            "https://preview.redd.it/ft2g7w8dkstd1.jpg?width=3024&format=pjpg&auto=webp&s=cd3948ee86a6be2346012d99c4b46bc51647f06d\n",
            "https://i.redd.it/rmod3qup3m9e1.jpeg\n",
            "https://i.redd.it/ma2qofcc4pld1.jpeg\n"
          ]
        },
        {
          "name": "stderr",
          "output_type": "stream",
          "text": [
            " 15%|█▍        | 9/62 [00:35<03:28,  3.94s/it]"
          ]
        },
        {
          "name": "stdout",
          "output_type": "stream",
          "text": [
            "https://preview.redd.it/66dfouxdku4e1.jpg?width=3021&format=pjpg&auto=webp&s=d8845a21eb5e94b3b9b701d4045a8ac43672697f\n",
            "https://preview.redd.it/8tye9qwox7hd1.jpg?width=921&format=pjpg&auto=webp&s=c7dfd888efde00d75d2173b0553228964eef651f\n",
            "https://preview.redd.it/lkr1onpgtlpd1.jpg?width=1656&format=pjpg&auto=webp&s=caa4779505f59adb01f3c5cfd0e6eda3c75a6ee6\n",
            "https://i.redd.it/yuk7tpz3iqcd1.jpeg\n",
            "https://preview.redd.it/klr10cgcorzd1.jpg?width=1170&format=pjpg&auto=webp&s=36f0a31c0594e82a0e203db5d929395f61ba918a\n",
            "https://preview.redd.it/wfxen7swz6dd1.jpg?width=1440&format=pjpg&auto=webp&s=0321084789b6a86c89a49758e253dd6102a1b1b2\n",
            "https://i.redd.it/qp0vyjcqd5zd1.jpeg\n",
            "https://preview.redd.it/3t7kw131ggrd1.jpg?width=2182&format=pjpg&auto=webp&s=a627c921b5a4276e244688abf0dd62d92808238c\n",
            "https://preview.redd.it/2l2fy0ck6t5d1.png?width=1080&format=png&auto=webp&s=44831c8a589133a6fcb6dde18dc1f78a81528c84\n",
            "https://i.redd.it/ue2lw6sdkfdd1.jpeg\n",
            "https://i.redd.it/3q48e13gu6vd1.jpeg\n",
            "https://i.redd.it/jhmbakcker6d1.jpeg\n",
            "https://i.redd.it/l01qj79sggfd1.jpeg\n",
            "https://i.redd.it/lduwhpcdw9td1.jpeg\n",
            "https://preview.redd.it/ggrsg2vcaz9d1.jpg?width=659&format=pjpg&auto=webp&s=ff77d5084e187a6aa1fb8a154cf64d36788c4dc4\n",
            "https://i.redd.it/4k0qwviyqhxd1.jpeg\n"
          ]
        },
        {
          "name": "stderr",
          "output_type": "stream",
          "text": [
            " 16%|█▌        | 10/62 [00:38<03:03,  3.52s/it]"
          ]
        },
        {
          "name": "stdout",
          "output_type": "stream",
          "text": [
            "https://preview.redd.it/6mv10wt7wq9d1.jpg?width=2465&format=pjpg&auto=webp&s=7aa37b3350d235d43961924aeba80effc1c2d1a8\n",
            "https://i.redd.it/yu5q7axig7yc1.jpeg\n",
            "https://i.redd.it/0co1n2b9o60e1.jpeg\n",
            "https://preview.redd.it/ysaudbvjs8yd1.jpg?width=3024&format=pjpg&auto=webp&s=649b94f55e48d62124fb6ce9fb8685fa95eb2118\n",
            "https://i.redd.it/rk6edhfft2ae1.jpeg\n",
            "https://preview.redd.it/4gy015fuey4e1.jpg?width=3024&format=pjpg&auto=webp&s=27a98bfe1aa06461ababb80d35daceed7694f4ad\n",
            "https://preview.redd.it/eh0ss7kdp6xd1.jpg?width=1309&format=pjpg&auto=webp&s=7fc99b7191e2d093f5bca92e04f53244f3346515\n",
            "https://preview.redd.it/ernplaxsy2xd1.jpg?width=2664&format=pjpg&auto=webp&s=dfa426481ac9542f92bfc1925b22a724ba1e16bf\n",
            "https://i.redd.it/8ocodn8n4j6d1.jpeg\n",
            "https://i.redd.it/0533m98tadad1.jpeg\n",
            "https://preview.redd.it/w093uhwne7pd1.jpg?width=3024&format=pjpg&auto=webp&s=1d1ab5eb2419698965937df85faa5c5435294269\n",
            "https://preview.redd.it/zz4qoqlz8bjd1.jpg?width=900&format=pjpg&auto=webp&s=0e5ea025e55170d5aeacd40cb5d044047456d251\n",
            "https://i.redd.it/zid8jsj8ylnd1.jpeg\n",
            "https://preview.redd.it/g72ywf6d8a9e1.jpg?width=2044&format=pjpg&auto=webp&s=b27ca69429fbf048810393721e58aa554d1ced01\n",
            "https://preview.redd.it/9d70asfheood1.jpg?width=3000&format=pjpg&auto=webp&s=1448f00637880bf1ab880bf1186a12785f6b65ae\n",
            "https://i.redd.it/fh8xl6i6b5ad1.jpeg\n"
          ]
        },
        {
          "name": "stderr",
          "output_type": "stream",
          "text": [
            " 18%|█▊        | 11/62 [00:42<03:05,  3.64s/it]"
          ]
        },
        {
          "name": "stdout",
          "output_type": "stream",
          "text": [
            "https://preview.redd.it/29bojga99l5d1.jpg?width=2046&format=pjpg&auto=webp&s=add5d66182911ccd5c7e07196863bcddc3e61d55\n",
            "https://i.redd.it/fk9mxc73z27e1.jpeg\n",
            "https://preview.redd.it/t1jm99328q5e1.jpg?width=936&format=pjpg&auto=webp&s=55b4a74a5db76572def2eba73acb1f1f9d89aa8a\n",
            "https://preview.redd.it/xow4plx3ukvd1.jpg?width=1079&format=pjpg&auto=webp&s=73d73aff1bca8a9a180d6f46d8d5a1e9c3719456\n",
            "https://preview.redd.it/om81qmw6si6d1.jpg?width=1440&format=pjpg&auto=webp&s=240c33d0cc858c424145c923310dd6695f74ae16\n",
            "https://i.redd.it/5bhvigwxvv1e1.jpeg\n",
            "https://i.redd.it/8mtx0sfmnrsd1.jpeg\n",
            "https://preview.redd.it/ux7xwjvlnh3d1.jpg?width=3024&format=pjpg&auto=webp&s=6f32799ebd77e13db394c00396f8da4d1f4bf22d\n",
            "https://preview.redd.it/y2ney5k4bv8e1.jpg?width=3060&format=pjpg&auto=webp&s=85dfd53dbe15e0c19e63dfc45bed264e79a16374\n",
            "https://i.redd.it/rdhs4rauoyvd1.jpeg\n",
            "https://preview.redd.it/o6v96p2s4gxc1.jpg?width=2160&format=pjpg&auto=webp&s=a00432ca174c2b30b3730cd0c94db01f3fb3d673\n",
            "https://i.redd.it/8pndkxw1xlid1.png\n"
          ]
        },
        {
          "name": "stderr",
          "output_type": "stream",
          "text": [
            " 18%|█▊        | 11/62 [00:43<03:22,  3.97s/it]"
          ]
        },
        {
          "name": "stdout",
          "output_type": "stream",
          "text": [
            "['No images']\n"
          ]
        },
        {
          "name": "stderr",
          "output_type": "stream",
          "text": [
            "\n"
          ]
        },
        {
          "ename": "InvalidURL",
          "evalue": "Failed to parse: ['No images']",
          "output_type": "error",
          "traceback": [
            "\u001b[0;31m---------------------------------------------------------------------------\u001b[0m",
            "\u001b[0;31mLocationParseError\u001b[0m                        Traceback (most recent call last)",
            "File \u001b[0;32m~/.pyenv/versions/3.10.9/lib/python3.10/site-packages/requests/models.py:434\u001b[0m, in \u001b[0;36mPreparedRequest.prepare_url\u001b[0;34m(self, url, params)\u001b[0m\n\u001b[1;32m    433\u001b[0m \u001b[38;5;28;01mtry\u001b[39;00m:\n\u001b[0;32m--> 434\u001b[0m     scheme, auth, host, port, path, query, fragment \u001b[38;5;241m=\u001b[39m \u001b[43mparse_url\u001b[49m\u001b[43m(\u001b[49m\u001b[43murl\u001b[49m\u001b[43m)\u001b[49m\n\u001b[1;32m    435\u001b[0m \u001b[38;5;28;01mexcept\u001b[39;00m LocationParseError \u001b[38;5;28;01mas\u001b[39;00m e:\n",
            "File \u001b[0;32m~/.pyenv/versions/3.10.9/lib/python3.10/site-packages/urllib3/util/url.py:397\u001b[0m, in \u001b[0;36mparse_url\u001b[0;34m(url)\u001b[0m\n\u001b[1;32m    396\u001b[0m \u001b[38;5;28;01mexcept\u001b[39;00m (\u001b[38;5;167;01mValueError\u001b[39;00m, \u001b[38;5;167;01mAttributeError\u001b[39;00m):\n\u001b[0;32m--> 397\u001b[0m     \u001b[38;5;28;01mreturn\u001b[39;00m \u001b[43msix\u001b[49m\u001b[38;5;241;43m.\u001b[39;49m\u001b[43mraise_from\u001b[49m\u001b[43m(\u001b[49m\u001b[43mLocationParseError\u001b[49m\u001b[43m(\u001b[49m\u001b[43msource_url\u001b[49m\u001b[43m)\u001b[49m\u001b[43m,\u001b[49m\u001b[43m \u001b[49m\u001b[38;5;28;43;01mNone\u001b[39;49;00m\u001b[43m)\u001b[49m\n\u001b[1;32m    399\u001b[0m \u001b[38;5;66;03m# For the sake of backwards compatibility we put empty\u001b[39;00m\n\u001b[1;32m    400\u001b[0m \u001b[38;5;66;03m# string values for path if there are any defined values\u001b[39;00m\n\u001b[1;32m    401\u001b[0m \u001b[38;5;66;03m# beyond the path in the URL.\u001b[39;00m\n\u001b[1;32m    402\u001b[0m \u001b[38;5;66;03m# TODO: Remove this when we break backwards compatibility.\u001b[39;00m\n",
            "File \u001b[0;32m<string>:3\u001b[0m, in \u001b[0;36mraise_from\u001b[0;34m(value, from_value)\u001b[0m\n",
            "\u001b[0;31mLocationParseError\u001b[0m: Failed to parse: ['No images']",
            "\nDuring handling of the above exception, another exception occurred:\n",
            "\u001b[0;31mInvalidURL\u001b[0m                                Traceback (most recent call last)",
            "Cell \u001b[0;32mIn[21], line 32\u001b[0m\n\u001b[1;32m     30\u001b[0m \u001b[38;5;28;01mif\u001b[39;00m image_url \u001b[38;5;241m==\u001b[39m [\u001b[38;5;124m\"\u001b[39m\u001b[38;5;124mNo images\u001b[39m\u001b[38;5;124m\"\u001b[39m]:\n\u001b[1;32m     31\u001b[0m     \u001b[38;5;28;01mcontinue\u001b[39;00m\n\u001b[0;32m---> 32\u001b[0m response \u001b[38;5;241m=\u001b[39m \u001b[43mrequests\u001b[49m\u001b[38;5;241;43m.\u001b[39;49m\u001b[43mget\u001b[49m\u001b[43m(\u001b[49m\u001b[43mimage_url\u001b[49m\u001b[43m)\u001b[49m\n\u001b[1;32m     33\u001b[0m image \u001b[38;5;241m=\u001b[39m Image\u001b[38;5;241m.\u001b[39mopen(BytesIO(response\u001b[38;5;241m.\u001b[39mcontent))\u001b[38;5;241m.\u001b[39mconvert(\u001b[38;5;124m\"\u001b[39m\u001b[38;5;124mRGB\u001b[39m\u001b[38;5;124m\"\u001b[39m)\n\u001b[1;32m     34\u001b[0m images\u001b[38;5;241m.\u001b[39mappend(image)\n",
            "File \u001b[0;32m~/.pyenv/versions/3.10.9/lib/python3.10/site-packages/requests/api.py:73\u001b[0m, in \u001b[0;36mget\u001b[0;34m(url, params, **kwargs)\u001b[0m\n\u001b[1;32m     62\u001b[0m \u001b[38;5;28;01mdef\u001b[39;00m \u001b[38;5;21mget\u001b[39m(url, params\u001b[38;5;241m=\u001b[39m\u001b[38;5;28;01mNone\u001b[39;00m, \u001b[38;5;241m*\u001b[39m\u001b[38;5;241m*\u001b[39mkwargs):\n\u001b[1;32m     63\u001b[0m \u001b[38;5;250m    \u001b[39m\u001b[38;5;124mr\u001b[39m\u001b[38;5;124;03m\"\"\"Sends a GET request.\u001b[39;00m\n\u001b[1;32m     64\u001b[0m \n\u001b[1;32m     65\u001b[0m \u001b[38;5;124;03m    :param url: URL for the new :class:`Request` object.\u001b[39;00m\n\u001b[0;32m   (...)\u001b[0m\n\u001b[1;32m     70\u001b[0m \u001b[38;5;124;03m    :rtype: requests.Response\u001b[39;00m\n\u001b[1;32m     71\u001b[0m \u001b[38;5;124;03m    \"\"\"\u001b[39;00m\n\u001b[0;32m---> 73\u001b[0m     \u001b[38;5;28;01mreturn\u001b[39;00m \u001b[43mrequest\u001b[49m\u001b[43m(\u001b[49m\u001b[38;5;124;43m\"\u001b[39;49m\u001b[38;5;124;43mget\u001b[39;49m\u001b[38;5;124;43m\"\u001b[39;49m\u001b[43m,\u001b[49m\u001b[43m \u001b[49m\u001b[43murl\u001b[49m\u001b[43m,\u001b[49m\u001b[43m \u001b[49m\u001b[43mparams\u001b[49m\u001b[38;5;241;43m=\u001b[39;49m\u001b[43mparams\u001b[49m\u001b[43m,\u001b[49m\u001b[43m \u001b[49m\u001b[38;5;241;43m*\u001b[39;49m\u001b[38;5;241;43m*\u001b[39;49m\u001b[43mkwargs\u001b[49m\u001b[43m)\u001b[49m\n",
            "File \u001b[0;32m~/.pyenv/versions/3.10.9/lib/python3.10/site-packages/requests/api.py:59\u001b[0m, in \u001b[0;36mrequest\u001b[0;34m(method, url, **kwargs)\u001b[0m\n\u001b[1;32m     55\u001b[0m \u001b[38;5;66;03m# By using the 'with' statement we are sure the session is closed, thus we\u001b[39;00m\n\u001b[1;32m     56\u001b[0m \u001b[38;5;66;03m# avoid leaving sockets open which can trigger a ResourceWarning in some\u001b[39;00m\n\u001b[1;32m     57\u001b[0m \u001b[38;5;66;03m# cases, and look like a memory leak in others.\u001b[39;00m\n\u001b[1;32m     58\u001b[0m \u001b[38;5;28;01mwith\u001b[39;00m sessions\u001b[38;5;241m.\u001b[39mSession() \u001b[38;5;28;01mas\u001b[39;00m session:\n\u001b[0;32m---> 59\u001b[0m     \u001b[38;5;28;01mreturn\u001b[39;00m \u001b[43msession\u001b[49m\u001b[38;5;241;43m.\u001b[39;49m\u001b[43mrequest\u001b[49m\u001b[43m(\u001b[49m\u001b[43mmethod\u001b[49m\u001b[38;5;241;43m=\u001b[39;49m\u001b[43mmethod\u001b[49m\u001b[43m,\u001b[49m\u001b[43m \u001b[49m\u001b[43murl\u001b[49m\u001b[38;5;241;43m=\u001b[39;49m\u001b[43murl\u001b[49m\u001b[43m,\u001b[49m\u001b[43m \u001b[49m\u001b[38;5;241;43m*\u001b[39;49m\u001b[38;5;241;43m*\u001b[39;49m\u001b[43mkwargs\u001b[49m\u001b[43m)\u001b[49m\n",
            "File \u001b[0;32m~/.pyenv/versions/3.10.9/lib/python3.10/site-packages/requests/sessions.py:573\u001b[0m, in \u001b[0;36mSession.request\u001b[0;34m(self, method, url, params, data, headers, cookies, files, auth, timeout, allow_redirects, proxies, hooks, stream, verify, cert, json)\u001b[0m\n\u001b[1;32m    560\u001b[0m \u001b[38;5;66;03m# Create the Request.\u001b[39;00m\n\u001b[1;32m    561\u001b[0m req \u001b[38;5;241m=\u001b[39m Request(\n\u001b[1;32m    562\u001b[0m     method\u001b[38;5;241m=\u001b[39mmethod\u001b[38;5;241m.\u001b[39mupper(),\n\u001b[1;32m    563\u001b[0m     url\u001b[38;5;241m=\u001b[39murl,\n\u001b[0;32m   (...)\u001b[0m\n\u001b[1;32m    571\u001b[0m     hooks\u001b[38;5;241m=\u001b[39mhooks,\n\u001b[1;32m    572\u001b[0m )\n\u001b[0;32m--> 573\u001b[0m prep \u001b[38;5;241m=\u001b[39m \u001b[38;5;28;43mself\u001b[39;49m\u001b[38;5;241;43m.\u001b[39;49m\u001b[43mprepare_request\u001b[49m\u001b[43m(\u001b[49m\u001b[43mreq\u001b[49m\u001b[43m)\u001b[49m\n\u001b[1;32m    575\u001b[0m proxies \u001b[38;5;241m=\u001b[39m proxies \u001b[38;5;129;01mor\u001b[39;00m {}\n\u001b[1;32m    577\u001b[0m settings \u001b[38;5;241m=\u001b[39m \u001b[38;5;28mself\u001b[39m\u001b[38;5;241m.\u001b[39mmerge_environment_settings(\n\u001b[1;32m    578\u001b[0m     prep\u001b[38;5;241m.\u001b[39murl, proxies, stream, verify, cert\n\u001b[1;32m    579\u001b[0m )\n",
            "File \u001b[0;32m~/.pyenv/versions/3.10.9/lib/python3.10/site-packages/requests/sessions.py:484\u001b[0m, in \u001b[0;36mSession.prepare_request\u001b[0;34m(self, request)\u001b[0m\n\u001b[1;32m    481\u001b[0m     auth \u001b[38;5;241m=\u001b[39m get_netrc_auth(request\u001b[38;5;241m.\u001b[39murl)\n\u001b[1;32m    483\u001b[0m p \u001b[38;5;241m=\u001b[39m PreparedRequest()\n\u001b[0;32m--> 484\u001b[0m \u001b[43mp\u001b[49m\u001b[38;5;241;43m.\u001b[39;49m\u001b[43mprepare\u001b[49m\u001b[43m(\u001b[49m\n\u001b[1;32m    485\u001b[0m \u001b[43m    \u001b[49m\u001b[43mmethod\u001b[49m\u001b[38;5;241;43m=\u001b[39;49m\u001b[43mrequest\u001b[49m\u001b[38;5;241;43m.\u001b[39;49m\u001b[43mmethod\u001b[49m\u001b[38;5;241;43m.\u001b[39;49m\u001b[43mupper\u001b[49m\u001b[43m(\u001b[49m\u001b[43m)\u001b[49m\u001b[43m,\u001b[49m\n\u001b[1;32m    486\u001b[0m \u001b[43m    \u001b[49m\u001b[43murl\u001b[49m\u001b[38;5;241;43m=\u001b[39;49m\u001b[43mrequest\u001b[49m\u001b[38;5;241;43m.\u001b[39;49m\u001b[43murl\u001b[49m\u001b[43m,\u001b[49m\n\u001b[1;32m    487\u001b[0m \u001b[43m    \u001b[49m\u001b[43mfiles\u001b[49m\u001b[38;5;241;43m=\u001b[39;49m\u001b[43mrequest\u001b[49m\u001b[38;5;241;43m.\u001b[39;49m\u001b[43mfiles\u001b[49m\u001b[43m,\u001b[49m\n\u001b[1;32m    488\u001b[0m \u001b[43m    \u001b[49m\u001b[43mdata\u001b[49m\u001b[38;5;241;43m=\u001b[39;49m\u001b[43mrequest\u001b[49m\u001b[38;5;241;43m.\u001b[39;49m\u001b[43mdata\u001b[49m\u001b[43m,\u001b[49m\n\u001b[1;32m    489\u001b[0m \u001b[43m    \u001b[49m\u001b[43mjson\u001b[49m\u001b[38;5;241;43m=\u001b[39;49m\u001b[43mrequest\u001b[49m\u001b[38;5;241;43m.\u001b[39;49m\u001b[43mjson\u001b[49m\u001b[43m,\u001b[49m\n\u001b[1;32m    490\u001b[0m \u001b[43m    \u001b[49m\u001b[43mheaders\u001b[49m\u001b[38;5;241;43m=\u001b[39;49m\u001b[43mmerge_setting\u001b[49m\u001b[43m(\u001b[49m\n\u001b[1;32m    491\u001b[0m \u001b[43m        \u001b[49m\u001b[43mrequest\u001b[49m\u001b[38;5;241;43m.\u001b[39;49m\u001b[43mheaders\u001b[49m\u001b[43m,\u001b[49m\u001b[43m \u001b[49m\u001b[38;5;28;43mself\u001b[39;49m\u001b[38;5;241;43m.\u001b[39;49m\u001b[43mheaders\u001b[49m\u001b[43m,\u001b[49m\u001b[43m \u001b[49m\u001b[43mdict_class\u001b[49m\u001b[38;5;241;43m=\u001b[39;49m\u001b[43mCaseInsensitiveDict\u001b[49m\n\u001b[1;32m    492\u001b[0m \u001b[43m    \u001b[49m\u001b[43m)\u001b[49m\u001b[43m,\u001b[49m\n\u001b[1;32m    493\u001b[0m \u001b[43m    \u001b[49m\u001b[43mparams\u001b[49m\u001b[38;5;241;43m=\u001b[39;49m\u001b[43mmerge_setting\u001b[49m\u001b[43m(\u001b[49m\u001b[43mrequest\u001b[49m\u001b[38;5;241;43m.\u001b[39;49m\u001b[43mparams\u001b[49m\u001b[43m,\u001b[49m\u001b[43m \u001b[49m\u001b[38;5;28;43mself\u001b[39;49m\u001b[38;5;241;43m.\u001b[39;49m\u001b[43mparams\u001b[49m\u001b[43m)\u001b[49m\u001b[43m,\u001b[49m\n\u001b[1;32m    494\u001b[0m \u001b[43m    \u001b[49m\u001b[43mauth\u001b[49m\u001b[38;5;241;43m=\u001b[39;49m\u001b[43mmerge_setting\u001b[49m\u001b[43m(\u001b[49m\u001b[43mauth\u001b[49m\u001b[43m,\u001b[49m\u001b[43m \u001b[49m\u001b[38;5;28;43mself\u001b[39;49m\u001b[38;5;241;43m.\u001b[39;49m\u001b[43mauth\u001b[49m\u001b[43m)\u001b[49m\u001b[43m,\u001b[49m\n\u001b[1;32m    495\u001b[0m \u001b[43m    \u001b[49m\u001b[43mcookies\u001b[49m\u001b[38;5;241;43m=\u001b[39;49m\u001b[43mmerged_cookies\u001b[49m\u001b[43m,\u001b[49m\n\u001b[1;32m    496\u001b[0m \u001b[43m    \u001b[49m\u001b[43mhooks\u001b[49m\u001b[38;5;241;43m=\u001b[39;49m\u001b[43mmerge_hooks\u001b[49m\u001b[43m(\u001b[49m\u001b[43mrequest\u001b[49m\u001b[38;5;241;43m.\u001b[39;49m\u001b[43mhooks\u001b[49m\u001b[43m,\u001b[49m\u001b[43m \u001b[49m\u001b[38;5;28;43mself\u001b[39;49m\u001b[38;5;241;43m.\u001b[39;49m\u001b[43mhooks\u001b[49m\u001b[43m)\u001b[49m\u001b[43m,\u001b[49m\n\u001b[1;32m    497\u001b[0m \u001b[43m\u001b[49m\u001b[43m)\u001b[49m\n\u001b[1;32m    498\u001b[0m \u001b[38;5;28;01mreturn\u001b[39;00m p\n",
            "File \u001b[0;32m~/.pyenv/versions/3.10.9/lib/python3.10/site-packages/requests/models.py:368\u001b[0m, in \u001b[0;36mPreparedRequest.prepare\u001b[0;34m(self, method, url, headers, files, data, params, auth, cookies, hooks, json)\u001b[0m\n\u001b[1;32m    365\u001b[0m \u001b[38;5;250m\u001b[39m\u001b[38;5;124;03m\"\"\"Prepares the entire request with the given parameters.\"\"\"\u001b[39;00m\n\u001b[1;32m    367\u001b[0m \u001b[38;5;28mself\u001b[39m\u001b[38;5;241m.\u001b[39mprepare_method(method)\n\u001b[0;32m--> 368\u001b[0m \u001b[38;5;28;43mself\u001b[39;49m\u001b[38;5;241;43m.\u001b[39;49m\u001b[43mprepare_url\u001b[49m\u001b[43m(\u001b[49m\u001b[43murl\u001b[49m\u001b[43m,\u001b[49m\u001b[43m \u001b[49m\u001b[43mparams\u001b[49m\u001b[43m)\u001b[49m\n\u001b[1;32m    369\u001b[0m \u001b[38;5;28mself\u001b[39m\u001b[38;5;241m.\u001b[39mprepare_headers(headers)\n\u001b[1;32m    370\u001b[0m \u001b[38;5;28mself\u001b[39m\u001b[38;5;241m.\u001b[39mprepare_cookies(cookies)\n",
            "File \u001b[0;32m~/.pyenv/versions/3.10.9/lib/python3.10/site-packages/requests/models.py:436\u001b[0m, in \u001b[0;36mPreparedRequest.prepare_url\u001b[0;34m(self, url, params)\u001b[0m\n\u001b[1;32m    434\u001b[0m     scheme, auth, host, port, path, query, fragment \u001b[38;5;241m=\u001b[39m parse_url(url)\n\u001b[1;32m    435\u001b[0m \u001b[38;5;28;01mexcept\u001b[39;00m LocationParseError \u001b[38;5;28;01mas\u001b[39;00m e:\n\u001b[0;32m--> 436\u001b[0m     \u001b[38;5;28;01mraise\u001b[39;00m InvalidURL(\u001b[38;5;241m*\u001b[39me\u001b[38;5;241m.\u001b[39margs)\n\u001b[1;32m    438\u001b[0m \u001b[38;5;28;01mif\u001b[39;00m \u001b[38;5;129;01mnot\u001b[39;00m scheme:\n\u001b[1;32m    439\u001b[0m     \u001b[38;5;28;01mraise\u001b[39;00m MissingSchema(\n\u001b[1;32m    440\u001b[0m         \u001b[38;5;124mf\u001b[39m\u001b[38;5;124m\"\u001b[39m\u001b[38;5;124mInvalid URL \u001b[39m\u001b[38;5;132;01m{\u001b[39;00murl\u001b[38;5;132;01m!r}\u001b[39;00m\u001b[38;5;124m: No scheme supplied. \u001b[39m\u001b[38;5;124m\"\u001b[39m\n\u001b[1;32m    441\u001b[0m         \u001b[38;5;124mf\u001b[39m\u001b[38;5;124m\"\u001b[39m\u001b[38;5;124mPerhaps you meant https://\u001b[39m\u001b[38;5;132;01m{\u001b[39;00murl\u001b[38;5;132;01m}\u001b[39;00m\u001b[38;5;124m?\u001b[39m\u001b[38;5;124m\"\u001b[39m\n\u001b[1;32m    442\u001b[0m     )\n",
            "\u001b[0;31mInvalidURL\u001b[0m: Failed to parse: ['No images']"
          ]
        }
      ],
      "source": [
        "import requests\n",
        "from PIL import Image\n",
        "from io import BytesIO\n",
        "\n",
        "from tqdm import tqdm\n",
        "import gc\n",
        "\n",
        "# embedded = []\n",
        "\n",
        "client = MongoClient(uri, server_api=ServerApi('1'))\n",
        "db = client[\"fit-check\"]\n",
        "collection = db[\"embeddings\"]\n",
        "\n",
        "batch_size = 16 \n",
        "\n",
        "def batch(iterable, n=1):\n",
        "    l = len(iterable)\n",
        "    for ndx in range(0, l, n):\n",
        "        yield iterable[ndx:min(ndx + n, l)]\n",
        "\n",
        "for batch_rows in tqdm(list(batch(data, batch_size))):\n",
        "    images = []\n",
        "    titles = []\n",
        "    comments_list = []\n",
        "    image_urls = []\n",
        "    scores = []\n",
        "    for row in batch_rows:\n",
        "        image_url = row[\"Images\"].split(\",\")[0]\n",
        "        print(image_url)\n",
        "        if image_url == [\"No images\"]:\n",
        "            continue\n",
        "        response = requests.get(image_url)\n",
        "        image = Image.open(BytesIO(response.content)).convert(\"RGB\")\n",
        "        images.append(image)\n",
        "        titles.append(row[\"Title\"])\n",
        "        # You can also batch comments if you want, or just use titles\n",
        "        comments_list.append([row[\"Description\"]] + [comment[\"body\"] for comment in row[\"Comments\"]])\n",
        "        image_urls.append(image_url)\n",
        "        scores.append(row[\"Score\"])\n",
        "\n",
        "    # Run batch embedding (titles only for simplicity)\n",
        "    image_embeds, text_embeds = run_embedding(images, titles, None)  # Modify run_embedding to accept lists\n",
        "\n",
        "    image_embeds_cpu = image_embeds.cpu()\n",
        "    text_embeds_cpu = text_embeds.cpu()\n",
        "    \n",
        "    for idx in range(len(images)):\n",
        "        collection.insert_one({\n",
        "            \"title\": titles[idx],\n",
        "            \"comments\": comments_list[idx],\n",
        "            \"image\": image_urls[idx],\n",
        "            \"score\": scores[idx],\n",
        "            \"image_embeds\": {\n",
        "                \"type\": \"denseVector\",\n",
        "                \"values\": image_embeds_cpu[idx].tolist(),\n",
        "            },\n",
        "            \"text_embeds\": {\n",
        "                \"type\": \"denseVector\",\n",
        "                \"values\": text_embeds_cpu[idx].tolist(),\n",
        "            },\n",
        "            \"embeds\": {\n",
        "                \"type\": \"denseVector\",\n",
        "                \"values\": combine_embeddings(image_embeds_cpu[idx], text_embeds_cpu[idx]).tolist(),\n",
        "            },\n",
        "            \"sentiment\": sentiment_list[idx]\n",
        "        })\n",
        "        images[idx].close()\n",
        "    del image_embeds, text_embeds\n",
        "    gc.collect()"
      ]
    },
    {
      "cell_type": "markdown",
      "id": "7f568df2",
      "metadata": {},
      "source": [
        "thank you gemini for the batching code"
      ]
    },
    {
      "cell_type": "code",
      "execution_count": null,
      "id": "8fdec20b",
      "metadata": {},
      "outputs": [
        {
          "name": "stdout",
          "output_type": "stream",
          "text": [
            "Total duplicates marked for deletion: 0\n"
          ]
        }
      ],
      "source": [
        "# delete dupes\n",
        "\n",
        "# Step 1: Aggregate duplicate titles with _ids\n",
        "pipeline = [\n",
        "    {\n",
        "        \"$group\": {\n",
        "            \"_id\": \"$title\",\n",
        "            \"ids\": {\"$push\": \"$_id\"},\n",
        "            \"count\": {\"$sum\": 1}\n",
        "        }\n",
        "    },\n",
        "    {\n",
        "        \"$match\": {\n",
        "            \"count\": {\"$gt\": 1}\n",
        "        }\n",
        "    }\n",
        "]\n",
        "\n",
        "duplicates = list(collection.aggregate(pipeline))\n",
        "\n",
        "total_to_delete = 0\n",
        "for doc in duplicates:\n",
        "    title = doc[\"_id\"]\n",
        "    ids = doc[\"ids\"]\n",
        "    count = doc[\"count\"]\n",
        "    ids_to_delete = ids[1:]  # keep one, delete the rest\n",
        "\n",
        "    print(f\"Title: {title}\")\n",
        "    print(f\"Occurrences: {count}\")\n",
        "    print(f\"Deleting {len(ids_to_delete)} documents with _ids: {ids_to_delete}\\n\")\n",
        "\n",
        "    # Uncomment this to delete:\n",
        "    # collection.delete_many({\"_id\": {\"$in\": ids_to_delete}})\n",
        "    total_to_delete += len(ids_to_delete)\n",
        "\n",
        "print(f\"Total duplicates marked for deletion: {total_to_delete}\")\n"
      ]
    },
    {
      "cell_type": "code",
      "execution_count": 14,
      "id": "ff1ce51a",
      "metadata": {},
      "outputs": [],
      "source": [
        "# Prepare inputs (image + optional text)\n",
        "compare_text = \"blue shirt and brown long pants\"\n",
        "compare_inputs = processor(\n",
        "    text=[compare_text],\n",
        "    return_tensors=\"pt\",\n",
        "    padding=True\n",
        ")\n",
        "compare_inputs = {k: v.to(device) for k, v in compare_inputs.items()} \n",
        "\n",
        "# Forward pass\n",
        "with torch.no_grad():\n",
        "    compare_text_embeds = model.get_text_features(**compare_inputs)\n",
        "\n",
        "compare_text_embeds = torch.nn.functional.normalize(compare_text_embeds)"
      ]
    },
    {
      "cell_type": "code",
      "execution_count": 17,
      "id": "51ebbdf3",
      "metadata": {},
      "outputs": [
        {
          "name": "stdout",
          "output_type": "stream",
          "text": [
            "Image to post.txt similarity: 0.2717254161834717\n",
            "Image to manual description similarity: 0.3059011697769165\n",
            "Manual description to post.txt similarity: 0.4487333595752716\n"
          ]
        }
      ],
      "source": [
        "similarity = torch.nn.functional.cosine_similarity(image_embeds, text_embeds)\n",
        "print(f\"Image to post.txt similarity: {similarity[0]}\")\n",
        "\n",
        "\n",
        "similarity = torch.nn.functional.cosine_similarity(image_embeds, compare_text_embeds)\n",
        "print(f\"Image to manual description similarity: {similarity[0]}\")\n",
        "\n",
        "similarity = torch.nn.functional.cosine_similarity(text_embeds, compare_text_embeds)\n",
        "print(f\"Manual description to post.txt similarity: {similarity[0]}\")"
      ]
    },
    {
      "cell_type": "markdown",
      "id": "3e2d5243",
      "metadata": {},
      "source": [
        "# previous code (no ai here)"
      ]
    },
    {
      "cell_type": "code",
      "execution_count": null,
      "id": "664e1497",
      "metadata": {},
      "outputs": [],
      "source": [
        "def run_embedding(image, title, comments):\n",
        "    \"\"\"\n",
        "    Takes in a PIL image and some text (length <77 tokens)\n",
        "    Returns the image and text embedding vectors separately\n",
        "    \"\"\"\n",
        "    inputs = processor(\n",
        "        # text=[title, *comments],\n",
        "        text=[title],\n",
        "        images=image,\n",
        "        return_tensors=\"pt\",\n",
        "        padding=True,\n",
        "        truncation=True # hm\n",
        "    )\n",
        "    inputs = {k: v.to(device) for k, v in inputs.items()} \n",
        "\n",
        "    # Forward pass\n",
        "    with torch.no_grad():\n",
        "        outputs = model(**inputs)\n",
        "\n",
        "    image_embeds = outputs.image_embeds\n",
        "    text_embeds = outputs.text_embeds\n",
        "\n",
        "    image_embeds = torch.nn.functional.normalize(image_embeds)\n",
        "    text_embeds = torch.nn.functional.normalize(text_embeds)\n",
        "\n",
        "    return image_embeds, text_embeds\n",
        "\n",
        "def combine_embeddings(image_embeds, text_embeds):\n",
        "    return 0.5 * image_embeds + 0.5 * text_embeds # weighted average"
      ]
    },
    {
      "cell_type": "code",
      "execution_count": null,
      "id": "bd217437",
      "metadata": {},
      "outputs": [],
      "source": [
        "# Run embeddings\n",
        "\n",
        "import requests\n",
        "from PIL import Image\n",
        "from io import BytesIO\n",
        "\n",
        "from tqdm import tqdm\n",
        "import gc\n",
        "\n",
        "embedded = []\n",
        "\n",
        "# ...existing code...\n",
        "max_tokens = 77\n",
        "\n",
        "def truncate_text(text):\n",
        "    tokens = processor.tokenizer(text, return_tensors=\"pt\")\n",
        "    if tokens['input_ids'].shape[1] > max_tokens:\n",
        "        # Truncate to max_tokens\n",
        "        return processor.tokenizer.decode(tokens['input_ids'][0][:max_tokens])\n",
        "    return text\n",
        "\n",
        "i = 0\n",
        "for row in tqdm(data):\n",
        "  image_url = row[\"Images\"].split(\",\")[0] # D:\n",
        "  if image_url == \"No images\":\n",
        "    continue\n",
        "  response = requests.get(image_url)\n",
        "  image = Image.open(BytesIO(response.content))\n",
        "\n",
        "  title = truncate_text(row[\"Title\"])\n",
        "  comments = [truncate_text(row[\"Description\"])] + [truncate_text(comment[\"body\"]) for comment in row[\"Comments\"]]\n",
        "\n",
        "  image_embeds, text_embeds = run_embedding(image, title, comments)\n",
        "  image_embeds_cpu = image_embeds.cpu()\n",
        "  text_embeds_cpu = text_embeds.cpu()\n",
        "\n",
        "  del image_embeds, text_embeds\n",
        "  if i % 20 == 19: gc.collect()\n",
        "  image.close()\n",
        "\n",
        "  embedded.append({\n",
        "    \"title\": title,\n",
        "    \"comments\": comments,\n",
        "    \"image\": image_url,\n",
        "    \"score\": row[\"Score\"],\n",
        "    \"image_embeds\": image_embeds_cpu,\n",
        "    \"text_embeds\": text_embeds_cpu,\n",
        "    \"embeds\": combine_embeddings(image_embeds_cpu, text_embeds_cpu)\n",
        "  })\n",
        "  i += 1"
      ]
    },
    {
      "cell_type": "code",
      "execution_count": null,
      "id": "8bf2a674",
      "metadata": {},
      "outputs": [],
      "source": [
        "count = 0\n",
        "for row in data:\n",
        "  text = row[\"Title\"]\n",
        "  tokens = processor.tokenizer(text, return_tensors=\"pt\")\n",
        "  token_count = tokens['input_ids'].shape[1]  # should be ≤ 77\n",
        "\n",
        "  if token_count > 77:\n",
        "    # print(token_count, text)\n",
        "    count += 1\n",
        "\n",
        "  for comment in row[\"Comments\"]:\n",
        "    text = comment[\"body\"]\n",
        "    tokens = processor.tokenizer(text, return_tensors=\"pt\")\n",
        "    token_count = tokens['input_ids'].shape[1]  # should be ≤ 77\n",
        "\n",
        "    if token_count > 77:\n",
        "      # print(token_count, text)\n",
        "      count += 1\n",
        "\n",
        "print(count)\n",
        "# checking title length\n"
      ]
    }
  ],
  "metadata": {
    "kernelspec": {
      "display_name": "Python 3",
      "language": "python",
      "name": "python3"
    },
    "language_info": {
      "codemirror_mode": {
        "name": "ipython",
        "version": 3
      },
      "file_extension": ".py",
      "mimetype": "text/x-python",
      "name": "python",
      "nbconvert_exporter": "python",
      "pygments_lexer": "ipython3",
      "version": "3.10.9"
    }
  },
  "nbformat": 4,
  "nbformat_minor": 5
}
