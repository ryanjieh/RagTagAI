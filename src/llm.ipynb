{
 "cells": [
  {
   "cell_type": "code",
   "execution_count": 5,
   "id": "2f0a55bb",
   "metadata": {},
   "outputs": [],
   "source": [
    "from google import genai\n",
    "from google.genai import types\n",
    "\n",
    "# env var is loaded automatically\n",
    "client = genai.Client()"
   ]
  },
  {
   "cell_type": "code",
   "execution_count": 10,
   "id": "e894adfc",
   "metadata": {},
   "outputs": [
    {
     "name": "stdout",
     "output_type": "stream",
     "text": [
      "Okay, a white t-shirt and grey shorts is a classic, comfortable, and versatile base! Here's how we can elevate this, keeping in mind a few different style directions:\n",
      "\n",
      "**Overall Considerations:**\n",
      "\n",
      "*   **Fit is Key:** Make sure both the t-shirt and shorts fit well. A well-fitting outfit always looks more polished.\n",
      "*   **Fabric Matters:** The fabric of both items can influence the overall feel. Linen or a cotton blend will look more breezy and casual, while performance fabrics can lean sporty.\n",
      "*   **Shoes are Important:** The shoes will drastically change the vibe.\n",
      "\n",
      "**Here are a few ways to improve it based on different styles:**\n",
      "\n",
      "**1. Elevated Casual:**\n",
      "\n",
      "*   **T-Shirt:** Opt for a slightly heavier weight cotton t-shirt. This will drape better and look more intentional. Consider a crew neck or a v-neck depending on your preference.\n",
      "*   **Shorts:** Choose tailored grey shorts, perhaps in a chino style or a linen blend. Look for a length that hits just above the knee.\n",
      "*   **Shoes:** Clean white sneakers (think Stan Smiths, Common Projects, or similar) or leather loafers.\n",
      "*   **Accessories:** A simple leather belt (brown or black), a watch with a leather or metal band, and maybe some sunglasses.\n",
      "\n",
      "**2. Relaxed/Streetwear:**\n",
      "\n",
      "*   **T-Shirt:** An oversized or slightly longer-length white t-shirt. You could even consider a graphic tee.\n",
      "*   **Shorts:** Relaxed fit grey shorts, maybe with cargo pockets or a drawstring waist.\n",
      "*   **Shoes:** Sneakers like Air Force 1s, New Balance 550s, or Vans.\n",
      "*   **Accessories:** A baseball cap, a crossbody bag or a backpack, and some casual jewelry (bracelets, necklaces).\n",
      "\n",
      "**3. Sporty/Athletic:**\n",
      "\n",
      "*   **T-Shirt:** A moisture-wicking athletic t-shirt.\n",
      "*   **Shorts:** Performance grey shorts (think running shorts or basketball shorts).\n",
      "*   **Shoes:** Running shoes or athletic trainers.\n",
      "*   **Accessories:** A baseball cap or visor, a sports watch, and a gym bag.\n",
      "\n",
      "**4. Summer/Beach Casual:**\n",
      "\n",
      "*   **T-Shirt:** A linen or lightweight cotton t-shirt.\n",
      "*   **Shorts:** Shorter length grey shorts, maybe in a chino or swim short style.\n",
      "*   **Shoes:** Sandals, flip-flops, or boat shoes.\n",
      "*   **Accessories:** Sunglasses, a straw hat, and a beach bag.\n",
      "\n",
      "**Specific Recommendations & Examples:**\n",
      "\n",
      "*   **Add a Layer:** A light jacket (denim jacket, bomber jacket, or a lightweight windbreaker) can add some visual interest and warmth.\n",
      "*   **Color Pop:** Introduce a pop of color with your shoes or accessories. For example, bright sneakers or a colorful hat.\n",
      "*   **Tuck or Untuck:** Depending on the style of the t-shirt and shorts, you can try tucking in the t-shirt for a more polished look or leaving it untucked for a more relaxed vibe.\n",
      "*   **Experiment with Textures:** Try shorts with a subtle texture, like a seersucker or a pique knit.\n",
      "\n",
      "To give you the best recommendations, tell me:\n",
      "\n",
      "*   **What is the occasion?** (e.g., running errands, going to a casual party, going on a date)\n",
      "*   **What is your personal style?** (e.g., classic, trendy, sporty, minimalist)\n",
      "*   **What is your budget?**\n",
      "\n"
     ]
    }
   ],
   "source": [
    "response = client.models.generate_content(\n",
    "  model=\"gemini-2.0-flash\",\n",
    "  contents=\"white t-shirt and grey shorts\",\n",
    "  config=types.GenerateContentConfig(\n",
    "    system_instruction=\n",
    "      [\n",
    "        \"You are a fashion recommendation system which takes a user's outfit and gives them improvements based on their style.\",\n",
    "        \"Based on the context given (which is common combinations and styles), please output recommendations and improvements to their current outfit.\",\n",
    "        # *context\n",
    "      ]\n",
    "  ),\n",
    ")\n",
    "print(response.text)"
   ]
  }
 ],
 "metadata": {
  "kernelspec": {
   "display_name": ".venv",
   "language": "python",
   "name": "python3"
  },
  "language_info": {
   "codemirror_mode": {
    "name": "ipython",
    "version": 3
   },
   "file_extension": ".py",
   "mimetype": "text/x-python",
   "name": "python",
   "nbconvert_exporter": "python",
   "pygments_lexer": "ipython3",
   "version": "3.10.9"
  }
 },
 "nbformat": 4,
 "nbformat_minor": 5
}
